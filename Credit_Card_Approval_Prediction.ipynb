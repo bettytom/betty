{
  "nbformat": 4,
  "nbformat_minor": 0,
  "metadata": {
    "colab": {
      "name": "Credit_Card_Approval_Prediction.ipynb",
      "provenance": [],
      "collapsed_sections": [],
      "toc_visible": true,
      "include_colab_link": true
    },
    "kernelspec": {
      "display_name": "Python 3",
      "language": "python",
      "name": "python3"
    },
    "language_info": {
      "codemirror_mode": {
        "name": "ipython",
        "version": 3
      },
      "file_extension": ".py",
      "mimetype": "text/x-python",
      "name": "python",
      "nbconvert_exporter": "python",
      "pygments_lexer": "ipython3",
      "version": "3.7.3"
    }
  },
  "cells": [
    {
      "cell_type": "markdown",
      "metadata": {
        "id": "view-in-github",
        "colab_type": "text"
      },
      "source": [
        "<a href=\"https://colab.research.google.com/github/bettytom/betty/blob/master/Credit_Card_Approval_Prediction.ipynb\" target=\"_parent\"><img src=\"https://colab.research.google.com/assets/colab-badge.svg\" alt=\"Open In Colab\"/></a>"
      ]
    },
    {
      "cell_type": "markdown",
      "metadata": {
        "id": "raDgzty3qz7-"
      },
      "source": [
        "**Credit Card Approval Prediction**\n",
        "\n",
        "Credit score cards are a common risk control method in the financial industry. It uses personal information and data submitted by credit card applicants to predict the probability of future defaults and credit card borrowings. The bank is able to decide whether to issue a credit card to the applicant. Credit scores can objectively quantify the magnitude of risk. "
      ]
    },
    {
      "cell_type": "markdown",
      "metadata": {
        "id": "R_wmmm4pKGVM"
      },
      "source": [
        "**Objective**\n",
        "\n",
        "Build a machine learning model to predict if an applicant is 'good' or 'bad' client, different from other tasks, the definition of 'good' or 'bad' is not given. "
      ]
    },
    {
      "cell_type": "code",
      "metadata": {
        "id": "jwEjPvg_ql25"
      },
      "source": [
        "#Import the necessary libraries\n",
        "import numpy as np\n",
        "import pandas as pd\n",
        "import matplotlib.pyplot as plt\n",
        "import seaborn as sns"
      ],
      "execution_count": null,
      "outputs": []
    },
    {
      "cell_type": "code",
      "metadata": {
        "colab": {
          "base_uri": "https://localhost:8080/",
          "height": 249
        },
        "id": "8SKh3tN81zL1",
        "outputId": "a05e511f-a799-4fa7-8bd0-072161ed0fe2"
      },
      "source": [
        "#Load and preview the data\n",
        "application = pd.read_csv(\"application_record.csv\")\n",
        "application.sample(5)"
      ],
      "execution_count": null,
      "outputs": [
        {
          "output_type": "execute_result",
          "data": {
            "text/html": [
              "<div>\n",
              "<style scoped>\n",
              "    .dataframe tbody tr th:only-of-type {\n",
              "        vertical-align: middle;\n",
              "    }\n",
              "\n",
              "    .dataframe tbody tr th {\n",
              "        vertical-align: top;\n",
              "    }\n",
              "\n",
              "    .dataframe thead th {\n",
              "        text-align: right;\n",
              "    }\n",
              "</style>\n",
              "<table border=\"1\" class=\"dataframe\">\n",
              "  <thead>\n",
              "    <tr style=\"text-align: right;\">\n",
              "      <th></th>\n",
              "      <th>ID</th>\n",
              "      <th>CODE_GENDER</th>\n",
              "      <th>FLAG_OWN_CAR</th>\n",
              "      <th>FLAG_OWN_REALTY</th>\n",
              "      <th>CNT_CHILDREN</th>\n",
              "      <th>AMT_INCOME_TOTAL</th>\n",
              "      <th>NAME_INCOME_TYPE</th>\n",
              "      <th>NAME_EDUCATION_TYPE</th>\n",
              "      <th>NAME_FAMILY_STATUS</th>\n",
              "      <th>NAME_HOUSING_TYPE</th>\n",
              "      <th>DAYS_BIRTH</th>\n",
              "      <th>DAYS_EMPLOYED</th>\n",
              "      <th>FLAG_MOBIL</th>\n",
              "      <th>FLAG_WORK_PHONE</th>\n",
              "      <th>FLAG_PHONE</th>\n",
              "      <th>FLAG_EMAIL</th>\n",
              "      <th>OCCUPATION_TYPE</th>\n",
              "      <th>CNT_FAM_MEMBERS</th>\n",
              "    </tr>\n",
              "  </thead>\n",
              "  <tbody>\n",
              "    <tr>\n",
              "      <th>22353</th>\n",
              "      <td>5066683</td>\n",
              "      <td>F</td>\n",
              "      <td>N</td>\n",
              "      <td>Y</td>\n",
              "      <td>2</td>\n",
              "      <td>81000.0</td>\n",
              "      <td>Working</td>\n",
              "      <td>Secondary / secondary special</td>\n",
              "      <td>Married</td>\n",
              "      <td>House / apartment</td>\n",
              "      <td>-16435.0</td>\n",
              "      <td>-9745.0</td>\n",
              "      <td>1.0</td>\n",
              "      <td>0.0</td>\n",
              "      <td>1.0</td>\n",
              "      <td>0.0</td>\n",
              "      <td>NaN</td>\n",
              "      <td>4.0</td>\n",
              "    </tr>\n",
              "    <tr>\n",
              "      <th>40533</th>\n",
              "      <td>5115812</td>\n",
              "      <td>F</td>\n",
              "      <td>Y</td>\n",
              "      <td>Y</td>\n",
              "      <td>2</td>\n",
              "      <td>90000.0</td>\n",
              "      <td>Working</td>\n",
              "      <td>Higher education</td>\n",
              "      <td>Married</td>\n",
              "      <td>House / apartment</td>\n",
              "      <td>-11599.0</td>\n",
              "      <td>-1928.0</td>\n",
              "      <td>1.0</td>\n",
              "      <td>1.0</td>\n",
              "      <td>1.0</td>\n",
              "      <td>0.0</td>\n",
              "      <td>Accountants</td>\n",
              "      <td>4.0</td>\n",
              "    </tr>\n",
              "    <tr>\n",
              "      <th>21126</th>\n",
              "      <td>5062068</td>\n",
              "      <td>F</td>\n",
              "      <td>N</td>\n",
              "      <td>Y</td>\n",
              "      <td>0</td>\n",
              "      <td>92250.0</td>\n",
              "      <td>Pensioner</td>\n",
              "      <td>Secondary / secondary special</td>\n",
              "      <td>Widow</td>\n",
              "      <td>House / apartment</td>\n",
              "      <td>-23105.0</td>\n",
              "      <td>365243.0</td>\n",
              "      <td>1.0</td>\n",
              "      <td>0.0</td>\n",
              "      <td>0.0</td>\n",
              "      <td>0.0</td>\n",
              "      <td>NaN</td>\n",
              "      <td>1.0</td>\n",
              "    </tr>\n",
              "    <tr>\n",
              "      <th>21831</th>\n",
              "      <td>5065526</td>\n",
              "      <td>F</td>\n",
              "      <td>N</td>\n",
              "      <td>Y</td>\n",
              "      <td>0</td>\n",
              "      <td>202500.0</td>\n",
              "      <td>Working</td>\n",
              "      <td>Higher education</td>\n",
              "      <td>Married</td>\n",
              "      <td>House / apartment</td>\n",
              "      <td>-11472.0</td>\n",
              "      <td>-596.0</td>\n",
              "      <td>1.0</td>\n",
              "      <td>0.0</td>\n",
              "      <td>0.0</td>\n",
              "      <td>0.0</td>\n",
              "      <td>NaN</td>\n",
              "      <td>2.0</td>\n",
              "    </tr>\n",
              "    <tr>\n",
              "      <th>27692</th>\n",
              "      <td>5090177</td>\n",
              "      <td>F</td>\n",
              "      <td>Y</td>\n",
              "      <td>Y</td>\n",
              "      <td>2</td>\n",
              "      <td>72000.0</td>\n",
              "      <td>Working</td>\n",
              "      <td>Higher education</td>\n",
              "      <td>Married</td>\n",
              "      <td>House / apartment</td>\n",
              "      <td>-10297.0</td>\n",
              "      <td>-2043.0</td>\n",
              "      <td>1.0</td>\n",
              "      <td>0.0</td>\n",
              "      <td>0.0</td>\n",
              "      <td>1.0</td>\n",
              "      <td>Core staff</td>\n",
              "      <td>4.0</td>\n",
              "    </tr>\n",
              "  </tbody>\n",
              "</table>\n",
              "</div>"
            ],
            "text/plain": [
              "            ID CODE_GENDER  ... OCCUPATION_TYPE CNT_FAM_MEMBERS\n",
              "22353  5066683           F  ...             NaN             4.0\n",
              "40533  5115812           F  ...     Accountants             4.0\n",
              "21126  5062068           F  ...             NaN             1.0\n",
              "21831  5065526           F  ...             NaN             2.0\n",
              "27692  5090177           F  ...      Core staff             4.0\n",
              "\n",
              "[5 rows x 18 columns]"
            ]
          },
          "metadata": {
            "tags": []
          },
          "execution_count": 3
        }
      ]
    },
    {
      "cell_type": "code",
      "metadata": {
        "id": "gCINNsLG2-K2"
      },
      "source": [
        "#from google.colab import drive\n",
        "#drive.mount('/content/drive')"
      ],
      "execution_count": null,
      "outputs": []
    },
    {
      "cell_type": "code",
      "metadata": {
        "id": "VvwY6dFnQfpi",
        "colab": {
          "base_uri": "https://localhost:8080/",
          "height": 250
        },
        "outputId": "e8195be2-dbfb-42e0-a814-c4c49cc08e37"
      },
      "source": [
        "credit = pd.read_csv('credit_record.csv')\n",
        "credit.sample(5)"
      ],
      "execution_count": null,
      "outputs": [
        {
          "output_type": "stream",
          "text": [
            "/usr/local/lib/python3.6/dist-packages/IPython/core/interactiveshell.py:2718: DtypeWarning: Columns (1) have mixed types.Specify dtype option on import or set low_memory=False.\n",
            "  interactivity=interactivity, compiler=compiler, result=result)\n"
          ],
          "name": "stderr"
        },
        {
          "output_type": "execute_result",
          "data": {
            "text/html": [
              "<div>\n",
              "<style scoped>\n",
              "    .dataframe tbody tr th:only-of-type {\n",
              "        vertical-align: middle;\n",
              "    }\n",
              "\n",
              "    .dataframe tbody tr th {\n",
              "        vertical-align: top;\n",
              "    }\n",
              "\n",
              "    .dataframe thead th {\n",
              "        text-align: right;\n",
              "    }\n",
              "</style>\n",
              "<table border=\"1\" class=\"dataframe\">\n",
              "  <thead>\n",
              "    <tr style=\"text-align: right;\">\n",
              "      <th></th>\n",
              "      <th>ID</th>\n",
              "      <th>MONTHS_BALANCE</th>\n",
              "      <th>STATUS</th>\n",
              "    </tr>\n",
              "  </thead>\n",
              "  <tbody>\n",
              "    <tr>\n",
              "      <th>630402</th>\n",
              "      <td>5088840</td>\n",
              "      <td>-34</td>\n",
              "      <td>0</td>\n",
              "    </tr>\n",
              "    <tr>\n",
              "      <th>26764</th>\n",
              "      <td>5002921</td>\n",
              "      <td>-11</td>\n",
              "      <td>0</td>\n",
              "    </tr>\n",
              "    <tr>\n",
              "      <th>426431</th>\n",
              "      <td>5051194</td>\n",
              "      <td>-30</td>\n",
              "      <td>0</td>\n",
              "    </tr>\n",
              "    <tr>\n",
              "      <th>529576</th>\n",
              "      <td>5062329</td>\n",
              "      <td>-11</td>\n",
              "      <td>C</td>\n",
              "    </tr>\n",
              "    <tr>\n",
              "      <th>321603</th>\n",
              "      <td>5032276</td>\n",
              "      <td>-2</td>\n",
              "      <td>X</td>\n",
              "    </tr>\n",
              "  </tbody>\n",
              "</table>\n",
              "</div>"
            ],
            "text/plain": [
              "             ID MONTHS_BALANCE STATUS\n",
              "630402  5088840            -34      0\n",
              "26764   5002921            -11      0\n",
              "426431  5051194            -30      0\n",
              "529576  5062329            -11      C\n",
              "321603  5032276             -2      X"
            ]
          },
          "metadata": {
            "tags": []
          },
          "execution_count": 6
        }
      ]
    },
    {
      "cell_type": "code",
      "metadata": {
        "id": "AVHuSZ3jqoCN",
        "outputId": "925bc18e-1837-43cb-838d-2089c79dd72e"
      },
      "source": [
        "application.dtypes"
      ],
      "execution_count": null,
      "outputs": [
        {
          "output_type": "execute_result",
          "data": {
            "text/plain": [
              "ID                       int64\n",
              "CODE_GENDER             object\n",
              "FLAG_OWN_CAR            object\n",
              "FLAG_OWN_REALTY         object\n",
              "CNT_CHILDREN             int64\n",
              "AMT_INCOME_TOTAL       float64\n",
              "NAME_INCOME_TYPE        object\n",
              "NAME_EDUCATION_TYPE     object\n",
              "NAME_FAMILY_STATUS      object\n",
              "NAME_HOUSING_TYPE       object\n",
              "DAYS_BIRTH               int64\n",
              "DAYS_EMPLOYED            int64\n",
              "FLAG_MOBIL               int64\n",
              "FLAG_WORK_PHONE          int64\n",
              "FLAG_PHONE               int64\n",
              "FLAG_EMAIL               int64\n",
              "OCCUPATION_TYPE         object\n",
              "CNT_FAM_MEMBERS        float64\n",
              "dtype: object"
            ]
          },
          "metadata": {
            "tags": []
          },
          "execution_count": 5
        }
      ]
    },
    {
      "cell_type": "code",
      "metadata": {
        "id": "iY8YVL52oLM3",
        "outputId": "49b6aa60-0184-4a01-9da7-7393e9ba2940"
      },
      "source": [
        "application.shape"
      ],
      "execution_count": null,
      "outputs": [
        {
          "output_type": "execute_result",
          "data": {
            "text/plain": [
              "(438557, 18)"
            ]
          },
          "metadata": {
            "tags": []
          },
          "execution_count": 6
        }
      ]
    },
    {
      "cell_type": "markdown",
      "metadata": {
        "id": "fR-7ORZFnFWt"
      },
      "source": [
        "Data Processing "
      ]
    },
    {
      "cell_type": "code",
      "metadata": {
        "id": "urQo2DHbwyIz",
        "colab": {
          "base_uri": "https://localhost:8080/"
        },
        "outputId": "220d7eb7-e64d-4d69-8f17-5083f52395e6"
      },
      "source": [
        "#Rename the columns\n",
        "application.columns = ['id','gender','owns_car','owns_property','no_of_children','total_income','income_type','education_type','family_status','housing_type','birthday','employment_duration','owns_mobile','has_work_phone','owns_phone','owns_email','occupation_type','family_size']\n",
        "application.columns"
      ],
      "execution_count": null,
      "outputs": [
        {
          "output_type": "execute_result",
          "data": {
            "text/plain": [
              "Index(['id', 'gender', 'owns_car', 'owns_property', 'no_of_children',\n",
              "       'total_income', 'income_type', 'education_type', 'family_status',\n",
              "       'housing_type', 'birthday', 'employment_duration', 'owns_mobile',\n",
              "       'has_work_phone', 'owns_phone', 'owns_email', 'occupation_type',\n",
              "       'family_size'],\n",
              "      dtype='object')"
            ]
          },
          "metadata": {
            "tags": []
          },
          "execution_count": 13
        }
      ]
    },
    {
      "cell_type": "markdown",
      "metadata": {
        "id": "iJdngL41nPk8"
      },
      "source": [
        "Change the categorical data values to discrete values i.e (1, 0)"
      ]
    },
    {
      "cell_type": "code",
      "metadata": {
        "id": "hsxgTW_EnL_q"
      },
      "source": [
        "#Use sklearn preprocessing to Label Encoder to convert categorical data to numerical form for easy modelling\n",
        "from sklearn.preprocessing import LabelEncoder\n",
        "encode=LabelEncoder()"
      ],
      "execution_count": null,
      "outputs": []
    },
    {
      "cell_type": "code",
      "metadata": {
        "id": "0B0nclGwrEWN",
        "colab": {
          "base_uri": "https://localhost:8080/",
          "height": 438
        },
        "outputId": "ef318554-240f-4ba7-e030-897acc37e28a"
      },
      "source": [
        "application['gender'] = encode.fit_transform(application['gender'])\n",
        "application['owns_car'] = encode.fit_transform(application['owns_car'])\n",
        "application['owns_property'] = encode.fit_transform(application['owns_property'])\n",
        "application['income_type'] = encode.fit_transform(application['income_type'])\n",
        "application['education_type'] = encode.fit_transform(application['education_type'])\n",
        "application['family_status'] = encode.fit_transform(application['family_status'])\n",
        "application['housing_type'] = encode.fit_transform(application['housing_type'])\n",
        "application['has_work_phone'] = encode.fit_transform(application['has_work_phone'])\n",
        "application['owns_phone'] = encode.fit_transform(application['owns_phone'])\n",
        "application['owns_email'] = encode.fit_transform(application['owns_email'])"
      ],
      "execution_count": null,
      "outputs": [
        {
          "output_type": "error",
          "ename": "TypeError",
          "evalue": "ignored",
          "traceback": [
            "\u001b[0;31m---------------------------------------------------------------------------\u001b[0m",
            "\u001b[0;31mTypeError\u001b[0m                                 Traceback (most recent call last)",
            "\u001b[0;32m/usr/local/lib/python3.6/dist-packages/sklearn/preprocessing/_label.py\u001b[0m in \u001b[0;36m_encode\u001b[0;34m(values, uniques, encode, check_unknown)\u001b[0m\n\u001b[1;32m    111\u001b[0m         \u001b[0;32mtry\u001b[0m\u001b[0;34m:\u001b[0m\u001b[0;34m\u001b[0m\u001b[0;34m\u001b[0m\u001b[0m\n\u001b[0;32m--> 112\u001b[0;31m             \u001b[0mres\u001b[0m \u001b[0;34m=\u001b[0m \u001b[0m_encode_python\u001b[0m\u001b[0;34m(\u001b[0m\u001b[0mvalues\u001b[0m\u001b[0;34m,\u001b[0m \u001b[0muniques\u001b[0m\u001b[0;34m,\u001b[0m \u001b[0mencode\u001b[0m\u001b[0;34m)\u001b[0m\u001b[0;34m\u001b[0m\u001b[0;34m\u001b[0m\u001b[0m\n\u001b[0m\u001b[1;32m    113\u001b[0m         \u001b[0;32mexcept\u001b[0m \u001b[0mTypeError\u001b[0m\u001b[0;34m:\u001b[0m\u001b[0;34m\u001b[0m\u001b[0;34m\u001b[0m\u001b[0m\n",
            "\u001b[0;32m/usr/local/lib/python3.6/dist-packages/sklearn/preprocessing/_label.py\u001b[0m in \u001b[0;36m_encode_python\u001b[0;34m(values, uniques, encode)\u001b[0m\n\u001b[1;32m     59\u001b[0m     \u001b[0;32mif\u001b[0m \u001b[0muniques\u001b[0m \u001b[0;32mis\u001b[0m \u001b[0;32mNone\u001b[0m\u001b[0;34m:\u001b[0m\u001b[0;34m\u001b[0m\u001b[0;34m\u001b[0m\u001b[0m\n\u001b[0;32m---> 60\u001b[0;31m         \u001b[0muniques\u001b[0m \u001b[0;34m=\u001b[0m \u001b[0msorted\u001b[0m\u001b[0;34m(\u001b[0m\u001b[0mset\u001b[0m\u001b[0;34m(\u001b[0m\u001b[0mvalues\u001b[0m\u001b[0;34m)\u001b[0m\u001b[0;34m)\u001b[0m\u001b[0;34m\u001b[0m\u001b[0;34m\u001b[0m\u001b[0m\n\u001b[0m\u001b[1;32m     61\u001b[0m         \u001b[0muniques\u001b[0m \u001b[0;34m=\u001b[0m \u001b[0mnp\u001b[0m\u001b[0;34m.\u001b[0m\u001b[0marray\u001b[0m\u001b[0;34m(\u001b[0m\u001b[0muniques\u001b[0m\u001b[0;34m,\u001b[0m \u001b[0mdtype\u001b[0m\u001b[0;34m=\u001b[0m\u001b[0mvalues\u001b[0m\u001b[0;34m.\u001b[0m\u001b[0mdtype\u001b[0m\u001b[0;34m)\u001b[0m\u001b[0;34m\u001b[0m\u001b[0;34m\u001b[0m\u001b[0m\n",
            "\u001b[0;31mTypeError\u001b[0m: '<' not supported between instances of 'str' and 'float'",
            "\nDuring handling of the above exception, another exception occurred:\n",
            "\u001b[0;31mTypeError\u001b[0m                                 Traceback (most recent call last)",
            "\u001b[0;32m<ipython-input-15-9816bea23a8b>\u001b[0m in \u001b[0;36m<module>\u001b[0;34m()\u001b[0m\n\u001b[1;32m      5\u001b[0m \u001b[0mapplication\u001b[0m\u001b[0;34m[\u001b[0m\u001b[0;34m'education_type'\u001b[0m\u001b[0;34m]\u001b[0m \u001b[0;34m=\u001b[0m \u001b[0mencode\u001b[0m\u001b[0;34m.\u001b[0m\u001b[0mfit_transform\u001b[0m\u001b[0;34m(\u001b[0m\u001b[0mapplication\u001b[0m\u001b[0;34m[\u001b[0m\u001b[0;34m'education_type'\u001b[0m\u001b[0;34m]\u001b[0m\u001b[0;34m)\u001b[0m\u001b[0;34m\u001b[0m\u001b[0;34m\u001b[0m\u001b[0m\n\u001b[1;32m      6\u001b[0m \u001b[0mapplication\u001b[0m\u001b[0;34m[\u001b[0m\u001b[0;34m'family_status'\u001b[0m\u001b[0;34m]\u001b[0m \u001b[0;34m=\u001b[0m \u001b[0mencode\u001b[0m\u001b[0;34m.\u001b[0m\u001b[0mfit_transform\u001b[0m\u001b[0;34m(\u001b[0m\u001b[0mapplication\u001b[0m\u001b[0;34m[\u001b[0m\u001b[0;34m'family_status'\u001b[0m\u001b[0;34m]\u001b[0m\u001b[0;34m)\u001b[0m\u001b[0;34m\u001b[0m\u001b[0;34m\u001b[0m\u001b[0m\n\u001b[0;32m----> 7\u001b[0;31m \u001b[0mapplication\u001b[0m\u001b[0;34m[\u001b[0m\u001b[0;34m'housing_type'\u001b[0m\u001b[0;34m]\u001b[0m \u001b[0;34m=\u001b[0m \u001b[0mencode\u001b[0m\u001b[0;34m.\u001b[0m\u001b[0mfit_transform\u001b[0m\u001b[0;34m(\u001b[0m\u001b[0mapplication\u001b[0m\u001b[0;34m[\u001b[0m\u001b[0;34m'housing_type'\u001b[0m\u001b[0;34m]\u001b[0m\u001b[0;34m)\u001b[0m\u001b[0;34m\u001b[0m\u001b[0;34m\u001b[0m\u001b[0m\n\u001b[0m\u001b[1;32m      8\u001b[0m \u001b[0mapplication\u001b[0m\u001b[0;34m[\u001b[0m\u001b[0;34m'has_work_phone'\u001b[0m\u001b[0;34m]\u001b[0m \u001b[0;34m=\u001b[0m \u001b[0mencode\u001b[0m\u001b[0;34m.\u001b[0m\u001b[0mfit_transform\u001b[0m\u001b[0;34m(\u001b[0m\u001b[0mapplication\u001b[0m\u001b[0;34m[\u001b[0m\u001b[0;34m'has_work_phone'\u001b[0m\u001b[0;34m]\u001b[0m\u001b[0;34m)\u001b[0m\u001b[0;34m\u001b[0m\u001b[0;34m\u001b[0m\u001b[0m\n\u001b[1;32m      9\u001b[0m \u001b[0mapplication\u001b[0m\u001b[0;34m[\u001b[0m\u001b[0;34m'owns_phone'\u001b[0m\u001b[0;34m]\u001b[0m \u001b[0;34m=\u001b[0m \u001b[0mencode\u001b[0m\u001b[0;34m.\u001b[0m\u001b[0mfit_transform\u001b[0m\u001b[0;34m(\u001b[0m\u001b[0mapplication\u001b[0m\u001b[0;34m[\u001b[0m\u001b[0;34m'owns_phone'\u001b[0m\u001b[0;34m]\u001b[0m\u001b[0;34m)\u001b[0m\u001b[0;34m\u001b[0m\u001b[0;34m\u001b[0m\u001b[0m\n",
            "\u001b[0;32m/usr/local/lib/python3.6/dist-packages/sklearn/preprocessing/_label.py\u001b[0m in \u001b[0;36mfit_transform\u001b[0;34m(self, y)\u001b[0m\n\u001b[1;32m    250\u001b[0m         \"\"\"\n\u001b[1;32m    251\u001b[0m         \u001b[0my\u001b[0m \u001b[0;34m=\u001b[0m \u001b[0mcolumn_or_1d\u001b[0m\u001b[0;34m(\u001b[0m\u001b[0my\u001b[0m\u001b[0;34m,\u001b[0m \u001b[0mwarn\u001b[0m\u001b[0;34m=\u001b[0m\u001b[0;32mTrue\u001b[0m\u001b[0;34m)\u001b[0m\u001b[0;34m\u001b[0m\u001b[0;34m\u001b[0m\u001b[0m\n\u001b[0;32m--> 252\u001b[0;31m         \u001b[0mself\u001b[0m\u001b[0;34m.\u001b[0m\u001b[0mclasses_\u001b[0m\u001b[0;34m,\u001b[0m \u001b[0my\u001b[0m \u001b[0;34m=\u001b[0m \u001b[0m_encode\u001b[0m\u001b[0;34m(\u001b[0m\u001b[0my\u001b[0m\u001b[0;34m,\u001b[0m \u001b[0mencode\u001b[0m\u001b[0;34m=\u001b[0m\u001b[0;32mTrue\u001b[0m\u001b[0;34m)\u001b[0m\u001b[0;34m\u001b[0m\u001b[0;34m\u001b[0m\u001b[0m\n\u001b[0m\u001b[1;32m    253\u001b[0m         \u001b[0;32mreturn\u001b[0m \u001b[0my\u001b[0m\u001b[0;34m\u001b[0m\u001b[0;34m\u001b[0m\u001b[0m\n\u001b[1;32m    254\u001b[0m \u001b[0;34m\u001b[0m\u001b[0m\n",
            "\u001b[0;32m/usr/local/lib/python3.6/dist-packages/sklearn/preprocessing/_label.py\u001b[0m in \u001b[0;36m_encode\u001b[0;34m(values, uniques, encode, check_unknown)\u001b[0m\n\u001b[1;32m    112\u001b[0m             \u001b[0mres\u001b[0m \u001b[0;34m=\u001b[0m \u001b[0m_encode_python\u001b[0m\u001b[0;34m(\u001b[0m\u001b[0mvalues\u001b[0m\u001b[0;34m,\u001b[0m \u001b[0muniques\u001b[0m\u001b[0;34m,\u001b[0m \u001b[0mencode\u001b[0m\u001b[0;34m)\u001b[0m\u001b[0;34m\u001b[0m\u001b[0;34m\u001b[0m\u001b[0m\n\u001b[1;32m    113\u001b[0m         \u001b[0;32mexcept\u001b[0m \u001b[0mTypeError\u001b[0m\u001b[0;34m:\u001b[0m\u001b[0;34m\u001b[0m\u001b[0;34m\u001b[0m\u001b[0m\n\u001b[0;32m--> 114\u001b[0;31m             \u001b[0;32mraise\u001b[0m \u001b[0mTypeError\u001b[0m\u001b[0;34m(\u001b[0m\u001b[0;34m\"argument must be a string or number\"\u001b[0m\u001b[0;34m)\u001b[0m\u001b[0;34m\u001b[0m\u001b[0;34m\u001b[0m\u001b[0m\n\u001b[0m\u001b[1;32m    115\u001b[0m         \u001b[0;32mreturn\u001b[0m \u001b[0mres\u001b[0m\u001b[0;34m\u001b[0m\u001b[0;34m\u001b[0m\u001b[0m\n\u001b[1;32m    116\u001b[0m     \u001b[0;32melse\u001b[0m\u001b[0;34m:\u001b[0m\u001b[0;34m\u001b[0m\u001b[0;34m\u001b[0m\u001b[0m\n",
            "\u001b[0;31mTypeError\u001b[0m: argument must be a string or number"
          ]
        }
      ]
    },
    {
      "cell_type": "markdown",
      "metadata": {
        "id": "40jCkcE5_rpD"
      },
      "source": [
        "Gender: Class mapping: F --> 0 M --> 1\n",
        "\n",
        "Owns_car: Class mapping: N --> 0 Y --> 1\n",
        "\n",
        "Owns_property: Class mapping: N --> 0 Y --> 1\n",
        "\n",
        "Income_Type: Class mapping: Commercial associate --> 0 Pensioner --> 1 State servant --> 2 Student --> 3 Working --> 4\n",
        "\n",
        "Education_Type: Class mapping: Academic degree --> 0 Higher education --> 1 Incomplete higher --> 2 Lower secondary --> 3 Secondary / secondary special --> 4\n",
        "\n",
        "Family_status: Class mapping: Civil marriage --> 0 Married --> 1 Separated --> 2 Single / not married --> 3 Widow --> 4\n",
        "\n",
        "Housing_Type: Class mapping: Co-op apartment --> 0 House / apartment --> 1 Municipal apartment --> 2 Office apartment --> 3 Rented apartment --> 4 With parents --> 5\n",
        "\n",
        "Owns_mobile: Class mapping: 1 --> 0\n",
        "\n",
        "has_work_phone: Class mapping: 0.0 --> 0 1.0 --> 1\n",
        "\n",
        "owns_phone: Class mapping: 0.0 --> 0 1.0 --> 1\n",
        "\n",
        "owns_email: Class mapping: 0.0 --> 0 1.0 --> 1"
      ]
    },
    {
      "cell_type": "code",
      "metadata": {
        "id": "ikt4LoEetY2Y",
        "outputId": "5127009c-ee49-43e7-8693-aa14ba1da579"
      },
      "source": [
        "#Preview dataset after change\n",
        "application.sample(10)"
      ],
      "execution_count": null,
      "outputs": [
        {
          "output_type": "execute_result",
          "data": {
            "text/html": [
              "<div>\n",
              "<style scoped>\n",
              "    .dataframe tbody tr th:only-of-type {\n",
              "        vertical-align: middle;\n",
              "    }\n",
              "\n",
              "    .dataframe tbody tr th {\n",
              "        vertical-align: top;\n",
              "    }\n",
              "\n",
              "    .dataframe thead th {\n",
              "        text-align: right;\n",
              "    }\n",
              "</style>\n",
              "<table border=\"1\" class=\"dataframe\">\n",
              "  <thead>\n",
              "    <tr style=\"text-align: right;\">\n",
              "      <th></th>\n",
              "      <th>id</th>\n",
              "      <th>gender</th>\n",
              "      <th>owns_car</th>\n",
              "      <th>owns_property</th>\n",
              "      <th>no_of_children</th>\n",
              "      <th>total_income</th>\n",
              "      <th>income_type</th>\n",
              "      <th>education_type</th>\n",
              "      <th>family_status</th>\n",
              "      <th>housing_type</th>\n",
              "      <th>birthday</th>\n",
              "      <th>employment_duration</th>\n",
              "      <th>owns_mobile</th>\n",
              "      <th>has_work_phone</th>\n",
              "      <th>owns_phone</th>\n",
              "      <th>owns_email</th>\n",
              "      <th>occupation_type</th>\n",
              "      <th>family_size</th>\n",
              "    </tr>\n",
              "  </thead>\n",
              "  <tbody>\n",
              "    <tr>\n",
              "      <th>260029</th>\n",
              "      <td>6460851</td>\n",
              "      <td>0</td>\n",
              "      <td>0</td>\n",
              "      <td>1</td>\n",
              "      <td>0</td>\n",
              "      <td>157500.0</td>\n",
              "      <td>1</td>\n",
              "      <td>4</td>\n",
              "      <td>1</td>\n",
              "      <td>1</td>\n",
              "      <td>-22703</td>\n",
              "      <td>365243</td>\n",
              "      <td>1</td>\n",
              "      <td>0</td>\n",
              "      <td>0</td>\n",
              "      <td>0</td>\n",
              "      <td>NaN</td>\n",
              "      <td>2.0</td>\n",
              "    </tr>\n",
              "    <tr>\n",
              "      <th>173517</th>\n",
              "      <td>5823448</td>\n",
              "      <td>1</td>\n",
              "      <td>1</td>\n",
              "      <td>1</td>\n",
              "      <td>2</td>\n",
              "      <td>270000.0</td>\n",
              "      <td>4</td>\n",
              "      <td>4</td>\n",
              "      <td>1</td>\n",
              "      <td>1</td>\n",
              "      <td>-13370</td>\n",
              "      <td>-1482</td>\n",
              "      <td>1</td>\n",
              "      <td>0</td>\n",
              "      <td>0</td>\n",
              "      <td>0</td>\n",
              "      <td>Laborers</td>\n",
              "      <td>4.0</td>\n",
              "    </tr>\n",
              "    <tr>\n",
              "      <th>180278</th>\n",
              "      <td>5837673</td>\n",
              "      <td>0</td>\n",
              "      <td>0</td>\n",
              "      <td>1</td>\n",
              "      <td>0</td>\n",
              "      <td>157500.0</td>\n",
              "      <td>4</td>\n",
              "      <td>4</td>\n",
              "      <td>1</td>\n",
              "      <td>2</td>\n",
              "      <td>-18143</td>\n",
              "      <td>-1268</td>\n",
              "      <td>1</td>\n",
              "      <td>1</td>\n",
              "      <td>0</td>\n",
              "      <td>1</td>\n",
              "      <td>Laborers</td>\n",
              "      <td>2.0</td>\n",
              "    </tr>\n",
              "    <tr>\n",
              "      <th>189060</th>\n",
              "      <td>5868485</td>\n",
              "      <td>0</td>\n",
              "      <td>0</td>\n",
              "      <td>1</td>\n",
              "      <td>1</td>\n",
              "      <td>157500.0</td>\n",
              "      <td>4</td>\n",
              "      <td>4</td>\n",
              "      <td>1</td>\n",
              "      <td>1</td>\n",
              "      <td>-16926</td>\n",
              "      <td>-3098</td>\n",
              "      <td>1</td>\n",
              "      <td>0</td>\n",
              "      <td>0</td>\n",
              "      <td>1</td>\n",
              "      <td>NaN</td>\n",
              "      <td>3.0</td>\n",
              "    </tr>\n",
              "    <tr>\n",
              "      <th>193598</th>\n",
              "      <td>5884455</td>\n",
              "      <td>0</td>\n",
              "      <td>0</td>\n",
              "      <td>1</td>\n",
              "      <td>0</td>\n",
              "      <td>67500.0</td>\n",
              "      <td>1</td>\n",
              "      <td>4</td>\n",
              "      <td>1</td>\n",
              "      <td>1</td>\n",
              "      <td>-22455</td>\n",
              "      <td>365243</td>\n",
              "      <td>1</td>\n",
              "      <td>0</td>\n",
              "      <td>1</td>\n",
              "      <td>0</td>\n",
              "      <td>NaN</td>\n",
              "      <td>2.0</td>\n",
              "    </tr>\n",
              "    <tr>\n",
              "      <th>168996</th>\n",
              "      <td>5796038</td>\n",
              "      <td>0</td>\n",
              "      <td>0</td>\n",
              "      <td>1</td>\n",
              "      <td>0</td>\n",
              "      <td>229500.0</td>\n",
              "      <td>0</td>\n",
              "      <td>1</td>\n",
              "      <td>4</td>\n",
              "      <td>1</td>\n",
              "      <td>-23108</td>\n",
              "      <td>-2746</td>\n",
              "      <td>1</td>\n",
              "      <td>0</td>\n",
              "      <td>0</td>\n",
              "      <td>1</td>\n",
              "      <td>Sales staff</td>\n",
              "      <td>1.0</td>\n",
              "    </tr>\n",
              "    <tr>\n",
              "      <th>184841</th>\n",
              "      <td>5857589</td>\n",
              "      <td>1</td>\n",
              "      <td>1</td>\n",
              "      <td>0</td>\n",
              "      <td>0</td>\n",
              "      <td>247500.0</td>\n",
              "      <td>0</td>\n",
              "      <td>4</td>\n",
              "      <td>1</td>\n",
              "      <td>1</td>\n",
              "      <td>-19077</td>\n",
              "      <td>-3123</td>\n",
              "      <td>1</td>\n",
              "      <td>1</td>\n",
              "      <td>1</td>\n",
              "      <td>0</td>\n",
              "      <td>Drivers</td>\n",
              "      <td>2.0</td>\n",
              "    </tr>\n",
              "    <tr>\n",
              "      <th>24704</th>\n",
              "      <td>5069524</td>\n",
              "      <td>0</td>\n",
              "      <td>0</td>\n",
              "      <td>1</td>\n",
              "      <td>1</td>\n",
              "      <td>270000.0</td>\n",
              "      <td>0</td>\n",
              "      <td>1</td>\n",
              "      <td>1</td>\n",
              "      <td>1</td>\n",
              "      <td>-14850</td>\n",
              "      <td>-232</td>\n",
              "      <td>1</td>\n",
              "      <td>0</td>\n",
              "      <td>0</td>\n",
              "      <td>1</td>\n",
              "      <td>Core staff</td>\n",
              "      <td>3.0</td>\n",
              "    </tr>\n",
              "    <tr>\n",
              "      <th>246379</th>\n",
              "      <td>6036985</td>\n",
              "      <td>1</td>\n",
              "      <td>1</td>\n",
              "      <td>0</td>\n",
              "      <td>2</td>\n",
              "      <td>112500.0</td>\n",
              "      <td>0</td>\n",
              "      <td>4</td>\n",
              "      <td>1</td>\n",
              "      <td>3</td>\n",
              "      <td>-15959</td>\n",
              "      <td>-5314</td>\n",
              "      <td>1</td>\n",
              "      <td>1</td>\n",
              "      <td>0</td>\n",
              "      <td>0</td>\n",
              "      <td>Laborers</td>\n",
              "      <td>4.0</td>\n",
              "    </tr>\n",
              "    <tr>\n",
              "      <th>274128</th>\n",
              "      <td>6099527</td>\n",
              "      <td>0</td>\n",
              "      <td>0</td>\n",
              "      <td>1</td>\n",
              "      <td>1</td>\n",
              "      <td>202500.0</td>\n",
              "      <td>4</td>\n",
              "      <td>4</td>\n",
              "      <td>4</td>\n",
              "      <td>1</td>\n",
              "      <td>-19540</td>\n",
              "      <td>-623</td>\n",
              "      <td>1</td>\n",
              "      <td>0</td>\n",
              "      <td>0</td>\n",
              "      <td>0</td>\n",
              "      <td>Security staff</td>\n",
              "      <td>2.0</td>\n",
              "    </tr>\n",
              "  </tbody>\n",
              "</table>\n",
              "</div>"
            ],
            "text/plain": [
              "             id  gender  owns_car  owns_property  no_of_children  \\\n",
              "260029  6460851       0         0              1               0   \n",
              "173517  5823448       1         1              1               2   \n",
              "180278  5837673       0         0              1               0   \n",
              "189060  5868485       0         0              1               1   \n",
              "193598  5884455       0         0              1               0   \n",
              "168996  5796038       0         0              1               0   \n",
              "184841  5857589       1         1              0               0   \n",
              "24704   5069524       0         0              1               1   \n",
              "246379  6036985       1         1              0               2   \n",
              "274128  6099527       0         0              1               1   \n",
              "\n",
              "        total_income  income_type  education_type  family_status  \\\n",
              "260029      157500.0            1               4              1   \n",
              "173517      270000.0            4               4              1   \n",
              "180278      157500.0            4               4              1   \n",
              "189060      157500.0            4               4              1   \n",
              "193598       67500.0            1               4              1   \n",
              "168996      229500.0            0               1              4   \n",
              "184841      247500.0            0               4              1   \n",
              "24704       270000.0            0               1              1   \n",
              "246379      112500.0            0               4              1   \n",
              "274128      202500.0            4               4              4   \n",
              "\n",
              "        housing_type  birthday  employment_duration  owns_mobile  \\\n",
              "260029             1    -22703               365243            1   \n",
              "173517             1    -13370                -1482            1   \n",
              "180278             2    -18143                -1268            1   \n",
              "189060             1    -16926                -3098            1   \n",
              "193598             1    -22455               365243            1   \n",
              "168996             1    -23108                -2746            1   \n",
              "184841             1    -19077                -3123            1   \n",
              "24704              1    -14850                 -232            1   \n",
              "246379             3    -15959                -5314            1   \n",
              "274128             1    -19540                 -623            1   \n",
              "\n",
              "        has_work_phone  owns_phone  owns_email occupation_type  family_size  \n",
              "260029               0           0           0             NaN          2.0  \n",
              "173517               0           0           0        Laborers          4.0  \n",
              "180278               1           0           1        Laborers          2.0  \n",
              "189060               0           0           1             NaN          3.0  \n",
              "193598               0           1           0             NaN          2.0  \n",
              "168996               0           0           1     Sales staff          1.0  \n",
              "184841               1           1           0         Drivers          2.0  \n",
              "24704                0           0           1      Core staff          3.0  \n",
              "246379               1           0           0        Laborers          4.0  \n",
              "274128               0           0           0  Security staff          2.0  "
            ]
          },
          "metadata": {
            "tags": []
          },
          "execution_count": 10
        }
      ]
    },
    {
      "cell_type": "code",
      "metadata": {
        "id": "Oiv-b7l_1g9F",
        "outputId": "b34b0109-7359-49ab-85ed-46b3b98df543"
      },
      "source": [
        "application.isnull().any()"
      ],
      "execution_count": null,
      "outputs": [
        {
          "output_type": "execute_result",
          "data": {
            "text/plain": [
              "id                     False\n",
              "gender                 False\n",
              "owns_car               False\n",
              "owns_property          False\n",
              "no_of_children         False\n",
              "total_income           False\n",
              "income_type            False\n",
              "education_type         False\n",
              "family_status          False\n",
              "housing_type           False\n",
              "birthday               False\n",
              "employment_duration    False\n",
              "owns_mobile            False\n",
              "has_work_phone         False\n",
              "owns_phone             False\n",
              "owns_email             False\n",
              "occupation_type         True\n",
              "family_size            False\n",
              "dtype: bool"
            ]
          },
          "metadata": {
            "tags": []
          },
          "execution_count": 11
        }
      ]
    },
    {
      "cell_type": "code",
      "metadata": {
        "id": "lnTUxmz71t2Q",
        "outputId": "e81f7113-e1c6-4317-c6b8-e2bf9d76c476"
      },
      "source": [
        "application.isnull().sum()"
      ],
      "execution_count": null,
      "outputs": [
        {
          "output_type": "execute_result",
          "data": {
            "text/plain": [
              "id                          0\n",
              "gender                      0\n",
              "owns_car                    0\n",
              "owns_property               0\n",
              "no_of_children              0\n",
              "total_income                0\n",
              "income_type                 0\n",
              "education_type              0\n",
              "family_status               0\n",
              "housing_type                0\n",
              "birthday                    0\n",
              "employment_duration         0\n",
              "owns_mobile                 0\n",
              "has_work_phone              0\n",
              "owns_phone                  0\n",
              "owns_email                  0\n",
              "occupation_type        134203\n",
              "family_size                 0\n",
              "dtype: int64"
            ]
          },
          "metadata": {
            "tags": []
          },
          "execution_count": 12
        }
      ]
    },
    {
      "cell_type": "code",
      "metadata": {
        "id": "APfKKkXu5bCI",
        "outputId": "848bdecf-14c3-41a0-bf45-074abe66634f"
      },
      "source": [
        "#Consider dropping occupation_type\n",
        "#Check impact\n",
        "application['occupation_type']"
      ],
      "execution_count": null,
      "outputs": [
        {
          "output_type": "execute_result",
          "data": {
            "text/plain": [
              "0                    NaN\n",
              "1                    NaN\n",
              "2         Security staff\n",
              "3            Sales staff\n",
              "4            Sales staff\n",
              "5            Sales staff\n",
              "6            Sales staff\n",
              "7                    NaN\n",
              "8                    NaN\n",
              "9                    NaN\n",
              "10           Accountants\n",
              "11           Accountants\n",
              "12           Accountants\n",
              "13              Laborers\n",
              "14              Laborers\n",
              "15              Laborers\n",
              "16              Laborers\n",
              "17              Laborers\n",
              "18              Laborers\n",
              "19           Accountants\n",
              "20           Accountants\n",
              "21              Laborers\n",
              "22              Laborers\n",
              "23              Laborers\n",
              "24                   NaN\n",
              "25                   NaN\n",
              "26                   NaN\n",
              "27              Laborers\n",
              "28              Laborers\n",
              "29              Managers\n",
              "               ...      \n",
              "438527               NaN\n",
              "438528               NaN\n",
              "438529               NaN\n",
              "438530          Managers\n",
              "438531          Managers\n",
              "438532          Managers\n",
              "438533               NaN\n",
              "438534          Laborers\n",
              "438535          Laborers\n",
              "438536        Core staff\n",
              "438537    Security staff\n",
              "438538    Security staff\n",
              "438539        Core staff\n",
              "438540               NaN\n",
              "438541          Laborers\n",
              "438542               NaN\n",
              "438543               NaN\n",
              "438544               NaN\n",
              "438545               NaN\n",
              "438546               NaN\n",
              "438547               NaN\n",
              "438548          Laborers\n",
              "438549               NaN\n",
              "438550               NaN\n",
              "438551               NaN\n",
              "438552               NaN\n",
              "438553          Laborers\n",
              "438554       Sales staff\n",
              "438555               NaN\n",
              "438556       Sales staff\n",
              "Name: occupation_type, Length: 438557, dtype: object"
            ]
          },
          "metadata": {
            "tags": []
          },
          "execution_count": 13
        }
      ]
    },
    {
      "cell_type": "code",
      "metadata": {
        "id": "uZI4l16aBddm",
        "outputId": "222baebb-b753-4ca6-ba2c-f2baa6a644e8"
      },
      "source": [
        "#Drop occupation_type column since it has many missing values that may not be easy to fill.\n",
        "application.drop(['occupation_type'], axis = 1, inplace = True) \n",
        "application.head()"
      ],
      "execution_count": null,
      "outputs": [
        {
          "output_type": "execute_result",
          "data": {
            "text/html": [
              "<div>\n",
              "<style scoped>\n",
              "    .dataframe tbody tr th:only-of-type {\n",
              "        vertical-align: middle;\n",
              "    }\n",
              "\n",
              "    .dataframe tbody tr th {\n",
              "        vertical-align: top;\n",
              "    }\n",
              "\n",
              "    .dataframe thead th {\n",
              "        text-align: right;\n",
              "    }\n",
              "</style>\n",
              "<table border=\"1\" class=\"dataframe\">\n",
              "  <thead>\n",
              "    <tr style=\"text-align: right;\">\n",
              "      <th></th>\n",
              "      <th>id</th>\n",
              "      <th>gender</th>\n",
              "      <th>owns_car</th>\n",
              "      <th>owns_property</th>\n",
              "      <th>no_of_children</th>\n",
              "      <th>total_income</th>\n",
              "      <th>income_type</th>\n",
              "      <th>education_type</th>\n",
              "      <th>family_status</th>\n",
              "      <th>housing_type</th>\n",
              "      <th>birthday</th>\n",
              "      <th>employment_duration</th>\n",
              "      <th>owns_mobile</th>\n",
              "      <th>has_work_phone</th>\n",
              "      <th>owns_phone</th>\n",
              "      <th>owns_email</th>\n",
              "      <th>family_size</th>\n",
              "    </tr>\n",
              "  </thead>\n",
              "  <tbody>\n",
              "    <tr>\n",
              "      <th>0</th>\n",
              "      <td>5008804</td>\n",
              "      <td>1</td>\n",
              "      <td>1</td>\n",
              "      <td>1</td>\n",
              "      <td>0</td>\n",
              "      <td>427500.0</td>\n",
              "      <td>4</td>\n",
              "      <td>1</td>\n",
              "      <td>0</td>\n",
              "      <td>4</td>\n",
              "      <td>-12005</td>\n",
              "      <td>-4542</td>\n",
              "      <td>1</td>\n",
              "      <td>1</td>\n",
              "      <td>0</td>\n",
              "      <td>0</td>\n",
              "      <td>2.0</td>\n",
              "    </tr>\n",
              "    <tr>\n",
              "      <th>1</th>\n",
              "      <td>5008805</td>\n",
              "      <td>1</td>\n",
              "      <td>1</td>\n",
              "      <td>1</td>\n",
              "      <td>0</td>\n",
              "      <td>427500.0</td>\n",
              "      <td>4</td>\n",
              "      <td>1</td>\n",
              "      <td>0</td>\n",
              "      <td>4</td>\n",
              "      <td>-12005</td>\n",
              "      <td>-4542</td>\n",
              "      <td>1</td>\n",
              "      <td>1</td>\n",
              "      <td>0</td>\n",
              "      <td>0</td>\n",
              "      <td>2.0</td>\n",
              "    </tr>\n",
              "    <tr>\n",
              "      <th>2</th>\n",
              "      <td>5008806</td>\n",
              "      <td>1</td>\n",
              "      <td>1</td>\n",
              "      <td>1</td>\n",
              "      <td>0</td>\n",
              "      <td>112500.0</td>\n",
              "      <td>4</td>\n",
              "      <td>4</td>\n",
              "      <td>1</td>\n",
              "      <td>1</td>\n",
              "      <td>-21474</td>\n",
              "      <td>-1134</td>\n",
              "      <td>1</td>\n",
              "      <td>0</td>\n",
              "      <td>0</td>\n",
              "      <td>0</td>\n",
              "      <td>2.0</td>\n",
              "    </tr>\n",
              "    <tr>\n",
              "      <th>3</th>\n",
              "      <td>5008808</td>\n",
              "      <td>0</td>\n",
              "      <td>0</td>\n",
              "      <td>1</td>\n",
              "      <td>0</td>\n",
              "      <td>270000.0</td>\n",
              "      <td>0</td>\n",
              "      <td>4</td>\n",
              "      <td>3</td>\n",
              "      <td>1</td>\n",
              "      <td>-19110</td>\n",
              "      <td>-3051</td>\n",
              "      <td>1</td>\n",
              "      <td>0</td>\n",
              "      <td>1</td>\n",
              "      <td>1</td>\n",
              "      <td>1.0</td>\n",
              "    </tr>\n",
              "    <tr>\n",
              "      <th>4</th>\n",
              "      <td>5008809</td>\n",
              "      <td>0</td>\n",
              "      <td>0</td>\n",
              "      <td>1</td>\n",
              "      <td>0</td>\n",
              "      <td>270000.0</td>\n",
              "      <td>0</td>\n",
              "      <td>4</td>\n",
              "      <td>3</td>\n",
              "      <td>1</td>\n",
              "      <td>-19110</td>\n",
              "      <td>-3051</td>\n",
              "      <td>1</td>\n",
              "      <td>0</td>\n",
              "      <td>1</td>\n",
              "      <td>1</td>\n",
              "      <td>1.0</td>\n",
              "    </tr>\n",
              "  </tbody>\n",
              "</table>\n",
              "</div>"
            ],
            "text/plain": [
              "        id  gender  owns_car  owns_property  no_of_children  total_income  \\\n",
              "0  5008804       1         1              1               0      427500.0   \n",
              "1  5008805       1         1              1               0      427500.0   \n",
              "2  5008806       1         1              1               0      112500.0   \n",
              "3  5008808       0         0              1               0      270000.0   \n",
              "4  5008809       0         0              1               0      270000.0   \n",
              "\n",
              "   income_type  education_type  family_status  housing_type  birthday  \\\n",
              "0            4               1              0             4    -12005   \n",
              "1            4               1              0             4    -12005   \n",
              "2            4               4              1             1    -21474   \n",
              "3            0               4              3             1    -19110   \n",
              "4            0               4              3             1    -19110   \n",
              "\n",
              "   employment_duration  owns_mobile  has_work_phone  owns_phone  owns_email  \\\n",
              "0                -4542            1               1           0           0   \n",
              "1                -4542            1               1           0           0   \n",
              "2                -1134            1               0           0           0   \n",
              "3                -3051            1               0           1           1   \n",
              "4                -3051            1               0           1           1   \n",
              "\n",
              "   family_size  \n",
              "0          2.0  \n",
              "1          2.0  \n",
              "2          2.0  \n",
              "3          1.0  \n",
              "4          1.0  "
            ]
          },
          "metadata": {
            "tags": []
          },
          "execution_count": 14
        }
      ]
    },
    {
      "cell_type": "code",
      "metadata": {
        "id": "YJZKfzsZKDOU",
        "outputId": "e83d56c7-45e5-425c-c665-7b9969287df9"
      },
      "source": [
        "#Check for duplicates\n",
        "application.loc[application.total_income == 315000.0].loc[application.income_type == 'Working'].loc[application.birthday == -10554].loc[application.employment_duration == -1194]"
      ],
      "execution_count": null,
      "outputs": [
        {
          "output_type": "stream",
          "text": [
            "C:\\Users\\betty123\\OneDrive\\Documents\\lib\\site-packages\\pandas\\core\\ops.py:1649: FutureWarning: elementwise comparison failed; returning scalar instead, but in the future will perform elementwise comparison\n",
            "  result = method(y)\n"
          ],
          "name": "stderr"
        },
        {
          "output_type": "execute_result",
          "data": {
            "text/html": [
              "<div>\n",
              "<style scoped>\n",
              "    .dataframe tbody tr th:only-of-type {\n",
              "        vertical-align: middle;\n",
              "    }\n",
              "\n",
              "    .dataframe tbody tr th {\n",
              "        vertical-align: top;\n",
              "    }\n",
              "\n",
              "    .dataframe thead th {\n",
              "        text-align: right;\n",
              "    }\n",
              "</style>\n",
              "<table border=\"1\" class=\"dataframe\">\n",
              "  <thead>\n",
              "    <tr style=\"text-align: right;\">\n",
              "      <th></th>\n",
              "      <th>id</th>\n",
              "      <th>gender</th>\n",
              "      <th>owns_car</th>\n",
              "      <th>owns_property</th>\n",
              "      <th>no_of_children</th>\n",
              "      <th>total_income</th>\n",
              "      <th>income_type</th>\n",
              "      <th>education_type</th>\n",
              "      <th>family_status</th>\n",
              "      <th>housing_type</th>\n",
              "      <th>birthday</th>\n",
              "      <th>employment_duration</th>\n",
              "      <th>owns_mobile</th>\n",
              "      <th>has_work_phone</th>\n",
              "      <th>owns_phone</th>\n",
              "      <th>owns_email</th>\n",
              "      <th>family_size</th>\n",
              "    </tr>\n",
              "  </thead>\n",
              "  <tbody>\n",
              "  </tbody>\n",
              "</table>\n",
              "</div>"
            ],
            "text/plain": [
              "Empty DataFrame\n",
              "Columns: [id, gender, owns_car, owns_property, no_of_children, total_income, income_type, education_type, family_status, housing_type, birthday, employment_duration, owns_mobile, has_work_phone, owns_phone, owns_email, family_size]\n",
              "Index: []"
            ]
          },
          "metadata": {
            "tags": []
          },
          "execution_count": 15
        }
      ]
    },
    {
      "cell_type": "markdown",
      "metadata": {
        "id": "uUSLZaqDRz-U"
      },
      "source": [
        "There are duplicate records in the dataset. They have all the same values except for the 'id'. "
      ]
    },
    {
      "cell_type": "code",
      "metadata": {
        "id": "QT-hb59oSlJl",
        "outputId": "74170003-8037-4862-d1f5-f4b28ae40936"
      },
      "source": [
        "#Drop duplicate records so as to have one customer having just one id\n",
        "application = application.drop_duplicates(subset=application.columns[1:])\n",
        "application.loc[application.birthday == -10554].loc[application.employment_duration == -1194]"
      ],
      "execution_count": null,
      "outputs": [
        {
          "output_type": "execute_result",
          "data": {
            "text/html": [
              "<div>\n",
              "<style scoped>\n",
              "    .dataframe tbody tr th:only-of-type {\n",
              "        vertical-align: middle;\n",
              "    }\n",
              "\n",
              "    .dataframe tbody tr th {\n",
              "        vertical-align: top;\n",
              "    }\n",
              "\n",
              "    .dataframe thead th {\n",
              "        text-align: right;\n",
              "    }\n",
              "</style>\n",
              "<table border=\"1\" class=\"dataframe\">\n",
              "  <thead>\n",
              "    <tr style=\"text-align: right;\">\n",
              "      <th></th>\n",
              "      <th>id</th>\n",
              "      <th>gender</th>\n",
              "      <th>owns_car</th>\n",
              "      <th>owns_property</th>\n",
              "      <th>no_of_children</th>\n",
              "      <th>total_income</th>\n",
              "      <th>income_type</th>\n",
              "      <th>education_type</th>\n",
              "      <th>family_status</th>\n",
              "      <th>housing_type</th>\n",
              "      <th>birthday</th>\n",
              "      <th>employment_duration</th>\n",
              "      <th>owns_mobile</th>\n",
              "      <th>has_work_phone</th>\n",
              "      <th>owns_phone</th>\n",
              "      <th>owns_email</th>\n",
              "      <th>family_size</th>\n",
              "    </tr>\n",
              "  </thead>\n",
              "  <tbody>\n",
              "    <tr>\n",
              "      <th>213</th>\n",
              "      <td>5009031</td>\n",
              "      <td>0</td>\n",
              "      <td>0</td>\n",
              "      <td>1</td>\n",
              "      <td>0</td>\n",
              "      <td>315000.0</td>\n",
              "      <td>4</td>\n",
              "      <td>4</td>\n",
              "      <td>3</td>\n",
              "      <td>1</td>\n",
              "      <td>-10554</td>\n",
              "      <td>-1194</td>\n",
              "      <td>1</td>\n",
              "      <td>0</td>\n",
              "      <td>0</td>\n",
              "      <td>0</td>\n",
              "      <td>1.0</td>\n",
              "    </tr>\n",
              "  </tbody>\n",
              "</table>\n",
              "</div>"
            ],
            "text/plain": [
              "          id  gender  owns_car  owns_property  no_of_children  total_income  \\\n",
              "213  5009031       0         0              1               0      315000.0   \n",
              "\n",
              "     income_type  education_type  family_status  housing_type  birthday  \\\n",
              "213            4               4              3             1    -10554   \n",
              "\n",
              "     employment_duration  owns_mobile  has_work_phone  owns_phone  owns_email  \\\n",
              "213                -1194            1               0           0           0   \n",
              "\n",
              "     family_size  \n",
              "213          1.0  "
            ]
          },
          "metadata": {
            "tags": []
          },
          "execution_count": 16
        }
      ]
    },
    {
      "cell_type": "code",
      "metadata": {
        "id": "jq3OeW2OCNSG",
        "outputId": "92160d59-eda8-4e04-e809-dc904f9705de"
      },
      "source": [
        "#Once again check for null values\n",
        "application.isnull().sum()"
      ],
      "execution_count": null,
      "outputs": [
        {
          "output_type": "execute_result",
          "data": {
            "text/plain": [
              "id                     0\n",
              "gender                 0\n",
              "owns_car               0\n",
              "owns_property          0\n",
              "no_of_children         0\n",
              "total_income           0\n",
              "income_type            0\n",
              "education_type         0\n",
              "family_status          0\n",
              "housing_type           0\n",
              "birthday               0\n",
              "employment_duration    0\n",
              "owns_mobile            0\n",
              "has_work_phone         0\n",
              "owns_phone             0\n",
              "owns_email             0\n",
              "family_size            0\n",
              "dtype: int64"
            ]
          },
          "metadata": {
            "tags": []
          },
          "execution_count": 17
        }
      ]
    },
    {
      "cell_type": "code",
      "metadata": {
        "id": "-Avsp2VEDm1G",
        "outputId": "d695e234-5ee0-4789-8c95-19e126713e53"
      },
      "source": [
        "application['owns_phone'].isnull().values"
      ],
      "execution_count": null,
      "outputs": [
        {
          "output_type": "execute_result",
          "data": {
            "text/plain": [
              "array([False, False, False, ..., False, False, False])"
            ]
          },
          "metadata": {
            "tags": []
          },
          "execution_count": 18
        }
      ]
    },
    {
      "cell_type": "code",
      "metadata": {
        "id": "NwFDOyY_CZ0E",
        "outputId": "4e6c0e56-4f96-4b96-9e20-be6078033887"
      },
      "source": [
        "#Check if the same record is missing data values on has_work_phone, owns_phone,owns_email,family_size\n",
        "application.loc[application['id'] == 6089954]"
      ],
      "execution_count": null,
      "outputs": [
        {
          "output_type": "execute_result",
          "data": {
            "text/html": [
              "<div>\n",
              "<style scoped>\n",
              "    .dataframe tbody tr th:only-of-type {\n",
              "        vertical-align: middle;\n",
              "    }\n",
              "\n",
              "    .dataframe tbody tr th {\n",
              "        vertical-align: top;\n",
              "    }\n",
              "\n",
              "    .dataframe thead th {\n",
              "        text-align: right;\n",
              "    }\n",
              "</style>\n",
              "<table border=\"1\" class=\"dataframe\">\n",
              "  <thead>\n",
              "    <tr style=\"text-align: right;\">\n",
              "      <th></th>\n",
              "      <th>id</th>\n",
              "      <th>gender</th>\n",
              "      <th>owns_car</th>\n",
              "      <th>owns_property</th>\n",
              "      <th>no_of_children</th>\n",
              "      <th>total_income</th>\n",
              "      <th>income_type</th>\n",
              "      <th>education_type</th>\n",
              "      <th>family_status</th>\n",
              "      <th>housing_type</th>\n",
              "      <th>birthday</th>\n",
              "      <th>employment_duration</th>\n",
              "      <th>owns_mobile</th>\n",
              "      <th>has_work_phone</th>\n",
              "      <th>owns_phone</th>\n",
              "      <th>owns_email</th>\n",
              "      <th>family_size</th>\n",
              "    </tr>\n",
              "  </thead>\n",
              "  <tbody>\n",
              "  </tbody>\n",
              "</table>\n",
              "</div>"
            ],
            "text/plain": [
              "Empty DataFrame\n",
              "Columns: [id, gender, owns_car, owns_property, no_of_children, total_income, income_type, education_type, family_status, housing_type, birthday, employment_duration, owns_mobile, has_work_phone, owns_phone, owns_email, family_size]\n",
              "Index: []"
            ]
          },
          "metadata": {
            "tags": []
          },
          "execution_count": 19
        }
      ]
    },
    {
      "cell_type": "code",
      "metadata": {
        "id": "dlkulJFDEVlH"
      },
      "source": [
        "#Drop the last record in the application dataset since it has several values missing\n",
        "#application = application.drop(270804)\n",
        "#application.isnull().any()"
      ],
      "execution_count": null,
      "outputs": []
    },
    {
      "cell_type": "code",
      "metadata": {
        "id": "Qqs-sJzhg2wB",
        "outputId": "ebbd8d48-229e-46db-987c-f69a54c755d1"
      },
      "source": [
        "#Rename the columns of credit\n",
        "credit.columns = ['id','months_balance','status']\n",
        "credit.sample(10)"
      ],
      "execution_count": null,
      "outputs": [
        {
          "output_type": "execute_result",
          "data": {
            "text/html": [
              "<div>\n",
              "<style scoped>\n",
              "    .dataframe tbody tr th:only-of-type {\n",
              "        vertical-align: middle;\n",
              "    }\n",
              "\n",
              "    .dataframe tbody tr th {\n",
              "        vertical-align: top;\n",
              "    }\n",
              "\n",
              "    .dataframe thead th {\n",
              "        text-align: right;\n",
              "    }\n",
              "</style>\n",
              "<table border=\"1\" class=\"dataframe\">\n",
              "  <thead>\n",
              "    <tr style=\"text-align: right;\">\n",
              "      <th></th>\n",
              "      <th>id</th>\n",
              "      <th>months_balance</th>\n",
              "      <th>status</th>\n",
              "    </tr>\n",
              "  </thead>\n",
              "  <tbody>\n",
              "    <tr>\n",
              "      <th>365650</th>\n",
              "      <td>5041646</td>\n",
              "      <td>-28</td>\n",
              "      <td>0</td>\n",
              "    </tr>\n",
              "    <tr>\n",
              "      <th>427094</th>\n",
              "      <td>5051238</td>\n",
              "      <td>-4</td>\n",
              "      <td>C</td>\n",
              "    </tr>\n",
              "    <tr>\n",
              "      <th>30754</th>\n",
              "      <td>5003105</td>\n",
              "      <td>-4</td>\n",
              "      <td>0</td>\n",
              "    </tr>\n",
              "    <tr>\n",
              "      <th>417477</th>\n",
              "      <td>5050510</td>\n",
              "      <td>-25</td>\n",
              "      <td>X</td>\n",
              "    </tr>\n",
              "    <tr>\n",
              "      <th>883884</th>\n",
              "      <td>5121196</td>\n",
              "      <td>-4</td>\n",
              "      <td>0</td>\n",
              "    </tr>\n",
              "    <tr>\n",
              "      <th>280682</th>\n",
              "      <td>5024737</td>\n",
              "      <td>-20</td>\n",
              "      <td>0</td>\n",
              "    </tr>\n",
              "    <tr>\n",
              "      <th>450648</th>\n",
              "      <td>5053969</td>\n",
              "      <td>-38</td>\n",
              "      <td>C</td>\n",
              "    </tr>\n",
              "    <tr>\n",
              "      <th>81443</th>\n",
              "      <td>5005377</td>\n",
              "      <td>-7</td>\n",
              "      <td>C</td>\n",
              "    </tr>\n",
              "    <tr>\n",
              "      <th>21269</th>\n",
              "      <td>5002695</td>\n",
              "      <td>-5</td>\n",
              "      <td>C</td>\n",
              "    </tr>\n",
              "    <tr>\n",
              "      <th>602642</th>\n",
              "      <td>5078457</td>\n",
              "      <td>-18</td>\n",
              "      <td>0</td>\n",
              "    </tr>\n",
              "  </tbody>\n",
              "</table>\n",
              "</div>"
            ],
            "text/plain": [
              "             id  months_balance status\n",
              "365650  5041646             -28      0\n",
              "427094  5051238              -4      C\n",
              "30754   5003105              -4      0\n",
              "417477  5050510             -25      X\n",
              "883884  5121196              -4      0\n",
              "280682  5024737             -20      0\n",
              "450648  5053969             -38      C\n",
              "81443   5005377              -7      C\n",
              "21269   5002695              -5      C\n",
              "602642  5078457             -18      0"
            ]
          },
          "metadata": {
            "tags": []
          },
          "execution_count": 21
        }
      ]
    },
    {
      "cell_type": "code",
      "metadata": {
        "id": "bP0v0gaaoW3K",
        "outputId": "b972ab92-1049-47b9-8c3b-53c72f8685bd"
      },
      "source": [
        "#Merge the application and credit datasets for easier analysis\n",
        "data = pd.merge(application, credit, how='inner', on=['id'])\n",
        "data.head()"
      ],
      "execution_count": null,
      "outputs": [
        {
          "output_type": "execute_result",
          "data": {
            "text/html": [
              "<div>\n",
              "<style scoped>\n",
              "    .dataframe tbody tr th:only-of-type {\n",
              "        vertical-align: middle;\n",
              "    }\n",
              "\n",
              "    .dataframe tbody tr th {\n",
              "        vertical-align: top;\n",
              "    }\n",
              "\n",
              "    .dataframe thead th {\n",
              "        text-align: right;\n",
              "    }\n",
              "</style>\n",
              "<table border=\"1\" class=\"dataframe\">\n",
              "  <thead>\n",
              "    <tr style=\"text-align: right;\">\n",
              "      <th></th>\n",
              "      <th>id</th>\n",
              "      <th>gender</th>\n",
              "      <th>owns_car</th>\n",
              "      <th>owns_property</th>\n",
              "      <th>no_of_children</th>\n",
              "      <th>total_income</th>\n",
              "      <th>income_type</th>\n",
              "      <th>education_type</th>\n",
              "      <th>family_status</th>\n",
              "      <th>housing_type</th>\n",
              "      <th>birthday</th>\n",
              "      <th>employment_duration</th>\n",
              "      <th>owns_mobile</th>\n",
              "      <th>has_work_phone</th>\n",
              "      <th>owns_phone</th>\n",
              "      <th>owns_email</th>\n",
              "      <th>family_size</th>\n",
              "      <th>months_balance</th>\n",
              "      <th>status</th>\n",
              "    </tr>\n",
              "  </thead>\n",
              "  <tbody>\n",
              "    <tr>\n",
              "      <th>0</th>\n",
              "      <td>5008804</td>\n",
              "      <td>1</td>\n",
              "      <td>1</td>\n",
              "      <td>1</td>\n",
              "      <td>0</td>\n",
              "      <td>427500.0</td>\n",
              "      <td>4</td>\n",
              "      <td>1</td>\n",
              "      <td>0</td>\n",
              "      <td>4</td>\n",
              "      <td>-12005</td>\n",
              "      <td>-4542</td>\n",
              "      <td>1</td>\n",
              "      <td>1</td>\n",
              "      <td>0</td>\n",
              "      <td>0</td>\n",
              "      <td>2.0</td>\n",
              "      <td>0</td>\n",
              "      <td>C</td>\n",
              "    </tr>\n",
              "    <tr>\n",
              "      <th>1</th>\n",
              "      <td>5008804</td>\n",
              "      <td>1</td>\n",
              "      <td>1</td>\n",
              "      <td>1</td>\n",
              "      <td>0</td>\n",
              "      <td>427500.0</td>\n",
              "      <td>4</td>\n",
              "      <td>1</td>\n",
              "      <td>0</td>\n",
              "      <td>4</td>\n",
              "      <td>-12005</td>\n",
              "      <td>-4542</td>\n",
              "      <td>1</td>\n",
              "      <td>1</td>\n",
              "      <td>0</td>\n",
              "      <td>0</td>\n",
              "      <td>2.0</td>\n",
              "      <td>-1</td>\n",
              "      <td>C</td>\n",
              "    </tr>\n",
              "    <tr>\n",
              "      <th>2</th>\n",
              "      <td>5008804</td>\n",
              "      <td>1</td>\n",
              "      <td>1</td>\n",
              "      <td>1</td>\n",
              "      <td>0</td>\n",
              "      <td>427500.0</td>\n",
              "      <td>4</td>\n",
              "      <td>1</td>\n",
              "      <td>0</td>\n",
              "      <td>4</td>\n",
              "      <td>-12005</td>\n",
              "      <td>-4542</td>\n",
              "      <td>1</td>\n",
              "      <td>1</td>\n",
              "      <td>0</td>\n",
              "      <td>0</td>\n",
              "      <td>2.0</td>\n",
              "      <td>-2</td>\n",
              "      <td>C</td>\n",
              "    </tr>\n",
              "    <tr>\n",
              "      <th>3</th>\n",
              "      <td>5008804</td>\n",
              "      <td>1</td>\n",
              "      <td>1</td>\n",
              "      <td>1</td>\n",
              "      <td>0</td>\n",
              "      <td>427500.0</td>\n",
              "      <td>4</td>\n",
              "      <td>1</td>\n",
              "      <td>0</td>\n",
              "      <td>4</td>\n",
              "      <td>-12005</td>\n",
              "      <td>-4542</td>\n",
              "      <td>1</td>\n",
              "      <td>1</td>\n",
              "      <td>0</td>\n",
              "      <td>0</td>\n",
              "      <td>2.0</td>\n",
              "      <td>-3</td>\n",
              "      <td>C</td>\n",
              "    </tr>\n",
              "    <tr>\n",
              "      <th>4</th>\n",
              "      <td>5008804</td>\n",
              "      <td>1</td>\n",
              "      <td>1</td>\n",
              "      <td>1</td>\n",
              "      <td>0</td>\n",
              "      <td>427500.0</td>\n",
              "      <td>4</td>\n",
              "      <td>1</td>\n",
              "      <td>0</td>\n",
              "      <td>4</td>\n",
              "      <td>-12005</td>\n",
              "      <td>-4542</td>\n",
              "      <td>1</td>\n",
              "      <td>1</td>\n",
              "      <td>0</td>\n",
              "      <td>0</td>\n",
              "      <td>2.0</td>\n",
              "      <td>-4</td>\n",
              "      <td>C</td>\n",
              "    </tr>\n",
              "  </tbody>\n",
              "</table>\n",
              "</div>"
            ],
            "text/plain": [
              "        id  gender  owns_car  owns_property  no_of_children  total_income  \\\n",
              "0  5008804       1         1              1               0      427500.0   \n",
              "1  5008804       1         1              1               0      427500.0   \n",
              "2  5008804       1         1              1               0      427500.0   \n",
              "3  5008804       1         1              1               0      427500.0   \n",
              "4  5008804       1         1              1               0      427500.0   \n",
              "\n",
              "   income_type  education_type  family_status  housing_type  birthday  \\\n",
              "0            4               1              0             4    -12005   \n",
              "1            4               1              0             4    -12005   \n",
              "2            4               1              0             4    -12005   \n",
              "3            4               1              0             4    -12005   \n",
              "4            4               1              0             4    -12005   \n",
              "\n",
              "   employment_duration  owns_mobile  has_work_phone  owns_phone  owns_email  \\\n",
              "0                -4542            1               1           0           0   \n",
              "1                -4542            1               1           0           0   \n",
              "2                -4542            1               1           0           0   \n",
              "3                -4542            1               1           0           0   \n",
              "4                -4542            1               1           0           0   \n",
              "\n",
              "   family_size  months_balance status  \n",
              "0          2.0               0      C  \n",
              "1          2.0              -1      C  \n",
              "2          2.0              -2      C  \n",
              "3          2.0              -3      C  \n",
              "4          2.0              -4      C  "
            ]
          },
          "metadata": {
            "tags": []
          },
          "execution_count": 22
        }
      ]
    },
    {
      "cell_type": "markdown",
      "metadata": {
        "id": "LrQ3N9RW51eB"
      },
      "source": [
        "Exploratory Data Analysis"
      ]
    },
    {
      "cell_type": "code",
      "metadata": {
        "id": "KcHeuFwJ5_zt",
        "outputId": "c54a9721-c5fc-4f43-dd42-9311a098837b"
      },
      "source": [
        "data.describe()"
      ],
      "execution_count": null,
      "outputs": [
        {
          "output_type": "execute_result",
          "data": {
            "text/html": [
              "<div>\n",
              "<style scoped>\n",
              "    .dataframe tbody tr th:only-of-type {\n",
              "        vertical-align: middle;\n",
              "    }\n",
              "\n",
              "    .dataframe tbody tr th {\n",
              "        vertical-align: top;\n",
              "    }\n",
              "\n",
              "    .dataframe thead th {\n",
              "        text-align: right;\n",
              "    }\n",
              "</style>\n",
              "<table border=\"1\" class=\"dataframe\">\n",
              "  <thead>\n",
              "    <tr style=\"text-align: right;\">\n",
              "      <th></th>\n",
              "      <th>id</th>\n",
              "      <th>gender</th>\n",
              "      <th>owns_car</th>\n",
              "      <th>owns_property</th>\n",
              "      <th>no_of_children</th>\n",
              "      <th>total_income</th>\n",
              "      <th>income_type</th>\n",
              "      <th>education_type</th>\n",
              "      <th>family_status</th>\n",
              "      <th>housing_type</th>\n",
              "      <th>birthday</th>\n",
              "      <th>employment_duration</th>\n",
              "      <th>owns_mobile</th>\n",
              "      <th>has_work_phone</th>\n",
              "      <th>owns_phone</th>\n",
              "      <th>owns_email</th>\n",
              "      <th>family_size</th>\n",
              "      <th>months_balance</th>\n",
              "    </tr>\n",
              "  </thead>\n",
              "  <tbody>\n",
              "    <tr>\n",
              "      <th>count</th>\n",
              "      <td>2.191730e+05</td>\n",
              "      <td>219173.000000</td>\n",
              "      <td>219173.000000</td>\n",
              "      <td>219173.000000</td>\n",
              "      <td>219173.000000</td>\n",
              "      <td>2.191730e+05</td>\n",
              "      <td>219173.000000</td>\n",
              "      <td>219173.000000</td>\n",
              "      <td>219173.000000</td>\n",
              "      <td>219173.000000</td>\n",
              "      <td>219173.000000</td>\n",
              "      <td>219173.000000</td>\n",
              "      <td>219173.0</td>\n",
              "      <td>219173.000000</td>\n",
              "      <td>219173.000000</td>\n",
              "      <td>219173.000000</td>\n",
              "      <td>219173.000000</td>\n",
              "      <td>219173.000000</td>\n",
              "    </tr>\n",
              "    <tr>\n",
              "      <th>mean</th>\n",
              "      <td>5.076276e+06</td>\n",
              "      <td>0.348998</td>\n",
              "      <td>0.375516</td>\n",
              "      <td>0.658941</td>\n",
              "      <td>0.417291</td>\n",
              "      <td>1.827611e+05</td>\n",
              "      <td>2.341023</td>\n",
              "      <td>3.142705</td>\n",
              "      <td>1.367655</td>\n",
              "      <td>1.246376</td>\n",
              "      <td>-16223.989433</td>\n",
              "      <td>62009.668755</td>\n",
              "      <td>1.0</td>\n",
              "      <td>0.225333</td>\n",
              "      <td>0.292527</td>\n",
              "      <td>0.084778</td>\n",
              "      <td>2.185205</td>\n",
              "      <td>-19.776213</td>\n",
              "    </tr>\n",
              "    <tr>\n",
              "      <th>std</th>\n",
              "      <td>4.064917e+04</td>\n",
              "      <td>0.476655</td>\n",
              "      <td>0.484257</td>\n",
              "      <td>0.474066</td>\n",
              "      <td>0.768615</td>\n",
              "      <td>1.009426e+05</td>\n",
              "      <td>1.744307</td>\n",
              "      <td>1.319734</td>\n",
              "      <td>0.956532</td>\n",
              "      <td>0.882553</td>\n",
              "      <td>4150.124178</td>\n",
              "      <td>140043.926967</td>\n",
              "      <td>0.0</td>\n",
              "      <td>0.417803</td>\n",
              "      <td>0.454924</td>\n",
              "      <td>0.278551</td>\n",
              "      <td>0.927131</td>\n",
              "      <td>14.216240</td>\n",
              "    </tr>\n",
              "    <tr>\n",
              "      <th>min</th>\n",
              "      <td>5.008804e+06</td>\n",
              "      <td>0.000000</td>\n",
              "      <td>0.000000</td>\n",
              "      <td>0.000000</td>\n",
              "      <td>0.000000</td>\n",
              "      <td>2.700000e+04</td>\n",
              "      <td>0.000000</td>\n",
              "      <td>0.000000</td>\n",
              "      <td>0.000000</td>\n",
              "      <td>0.000000</td>\n",
              "      <td>-25152.000000</td>\n",
              "      <td>-15713.000000</td>\n",
              "      <td>1.0</td>\n",
              "      <td>0.000000</td>\n",
              "      <td>0.000000</td>\n",
              "      <td>0.000000</td>\n",
              "      <td>1.000000</td>\n",
              "      <td>-60.000000</td>\n",
              "    </tr>\n",
              "    <tr>\n",
              "      <th>25%</th>\n",
              "      <td>5.037063e+06</td>\n",
              "      <td>0.000000</td>\n",
              "      <td>0.000000</td>\n",
              "      <td>0.000000</td>\n",
              "      <td>0.000000</td>\n",
              "      <td>1.125000e+05</td>\n",
              "      <td>1.000000</td>\n",
              "      <td>1.000000</td>\n",
              "      <td>1.000000</td>\n",
              "      <td>1.000000</td>\n",
              "      <td>-19682.000000</td>\n",
              "      <td>-3154.000000</td>\n",
              "      <td>1.0</td>\n",
              "      <td>0.000000</td>\n",
              "      <td>0.000000</td>\n",
              "      <td>0.000000</td>\n",
              "      <td>2.000000</td>\n",
              "      <td>-30.000000</td>\n",
              "    </tr>\n",
              "    <tr>\n",
              "      <th>50%</th>\n",
              "      <td>5.069239e+06</td>\n",
              "      <td>0.000000</td>\n",
              "      <td>0.000000</td>\n",
              "      <td>1.000000</td>\n",
              "      <td>0.000000</td>\n",
              "      <td>1.575000e+05</td>\n",
              "      <td>4.000000</td>\n",
              "      <td>4.000000</td>\n",
              "      <td>1.000000</td>\n",
              "      <td>1.000000</td>\n",
              "      <td>-15909.000000</td>\n",
              "      <td>-1517.000000</td>\n",
              "      <td>1.0</td>\n",
              "      <td>0.000000</td>\n",
              "      <td>0.000000</td>\n",
              "      <td>0.000000</td>\n",
              "      <td>2.000000</td>\n",
              "      <td>-17.000000</td>\n",
              "    </tr>\n",
              "    <tr>\n",
              "      <th>75%</th>\n",
              "      <td>5.112992e+06</td>\n",
              "      <td>1.000000</td>\n",
              "      <td>1.000000</td>\n",
              "      <td>1.000000</td>\n",
              "      <td>1.000000</td>\n",
              "      <td>2.250000e+05</td>\n",
              "      <td>4.000000</td>\n",
              "      <td>4.000000</td>\n",
              "      <td>1.000000</td>\n",
              "      <td>1.000000</td>\n",
              "      <td>-12752.000000</td>\n",
              "      <td>-353.000000</td>\n",
              "      <td>1.0</td>\n",
              "      <td>0.000000</td>\n",
              "      <td>1.000000</td>\n",
              "      <td>0.000000</td>\n",
              "      <td>3.000000</td>\n",
              "      <td>-8.000000</td>\n",
              "    </tr>\n",
              "    <tr>\n",
              "      <th>max</th>\n",
              "      <td>5.150479e+06</td>\n",
              "      <td>1.000000</td>\n",
              "      <td>1.000000</td>\n",
              "      <td>1.000000</td>\n",
              "      <td>19.000000</td>\n",
              "      <td>1.575000e+06</td>\n",
              "      <td>4.000000</td>\n",
              "      <td>4.000000</td>\n",
              "      <td>4.000000</td>\n",
              "      <td>5.000000</td>\n",
              "      <td>-7489.000000</td>\n",
              "      <td>365243.000000</td>\n",
              "      <td>1.0</td>\n",
              "      <td>1.000000</td>\n",
              "      <td>1.000000</td>\n",
              "      <td>1.000000</td>\n",
              "      <td>20.000000</td>\n",
              "      <td>0.000000</td>\n",
              "    </tr>\n",
              "  </tbody>\n",
              "</table>\n",
              "</div>"
            ],
            "text/plain": [
              "                 id         gender       owns_car  owns_property  \\\n",
              "count  2.191730e+05  219173.000000  219173.000000  219173.000000   \n",
              "mean   5.076276e+06       0.348998       0.375516       0.658941   \n",
              "std    4.064917e+04       0.476655       0.484257       0.474066   \n",
              "min    5.008804e+06       0.000000       0.000000       0.000000   \n",
              "25%    5.037063e+06       0.000000       0.000000       0.000000   \n",
              "50%    5.069239e+06       0.000000       0.000000       1.000000   \n",
              "75%    5.112992e+06       1.000000       1.000000       1.000000   \n",
              "max    5.150479e+06       1.000000       1.000000       1.000000   \n",
              "\n",
              "       no_of_children  total_income    income_type  education_type  \\\n",
              "count   219173.000000  2.191730e+05  219173.000000   219173.000000   \n",
              "mean         0.417291  1.827611e+05       2.341023        3.142705   \n",
              "std          0.768615  1.009426e+05       1.744307        1.319734   \n",
              "min          0.000000  2.700000e+04       0.000000        0.000000   \n",
              "25%          0.000000  1.125000e+05       1.000000        1.000000   \n",
              "50%          0.000000  1.575000e+05       4.000000        4.000000   \n",
              "75%          1.000000  2.250000e+05       4.000000        4.000000   \n",
              "max         19.000000  1.575000e+06       4.000000        4.000000   \n",
              "\n",
              "       family_status   housing_type       birthday  employment_duration  \\\n",
              "count  219173.000000  219173.000000  219173.000000        219173.000000   \n",
              "mean        1.367655       1.246376  -16223.989433         62009.668755   \n",
              "std         0.956532       0.882553    4150.124178        140043.926967   \n",
              "min         0.000000       0.000000  -25152.000000        -15713.000000   \n",
              "25%         1.000000       1.000000  -19682.000000         -3154.000000   \n",
              "50%         1.000000       1.000000  -15909.000000         -1517.000000   \n",
              "75%         1.000000       1.000000  -12752.000000          -353.000000   \n",
              "max         4.000000       5.000000   -7489.000000        365243.000000   \n",
              "\n",
              "       owns_mobile  has_work_phone     owns_phone     owns_email  \\\n",
              "count     219173.0   219173.000000  219173.000000  219173.000000   \n",
              "mean           1.0        0.225333       0.292527       0.084778   \n",
              "std            0.0        0.417803       0.454924       0.278551   \n",
              "min            1.0        0.000000       0.000000       0.000000   \n",
              "25%            1.0        0.000000       0.000000       0.000000   \n",
              "50%            1.0        0.000000       0.000000       0.000000   \n",
              "75%            1.0        0.000000       1.000000       0.000000   \n",
              "max            1.0        1.000000       1.000000       1.000000   \n",
              "\n",
              "         family_size  months_balance  \n",
              "count  219173.000000   219173.000000  \n",
              "mean        2.185205      -19.776213  \n",
              "std         0.927131       14.216240  \n",
              "min         1.000000      -60.000000  \n",
              "25%         2.000000      -30.000000  \n",
              "50%         2.000000      -17.000000  \n",
              "75%         3.000000       -8.000000  \n",
              "max        20.000000        0.000000  "
            ]
          },
          "metadata": {
            "tags": []
          },
          "execution_count": 23
        }
      ]
    },
    {
      "cell_type": "markdown",
      "metadata": {
        "id": "AW1t_hDfLehf"
      },
      "source": [
        "Categorizing the records as defaulted or not defaulted.\n",
        "Any record with status (0,1,2,3,4,5) should be labelled as defaulted whereas, any record with status (X, C) should be labelled as not defaulted."
      ]
    },
    {
      "cell_type": "code",
      "metadata": {
        "id": "BGX1i11DLddU",
        "outputId": "f8cf22c2-ddd7-49c0-e65c-d0dbf6961b7b"
      },
      "source": [
        "defaulters= ['0','1','2','3','4','5']\n",
        "\n",
        "data['default_status'] = np.where(data.status.isin(defaulters), 1, 0)\n",
        "data.head()"
      ],
      "execution_count": null,
      "outputs": [
        {
          "output_type": "execute_result",
          "data": {
            "text/html": [
              "<div>\n",
              "<style scoped>\n",
              "    .dataframe tbody tr th:only-of-type {\n",
              "        vertical-align: middle;\n",
              "    }\n",
              "\n",
              "    .dataframe tbody tr th {\n",
              "        vertical-align: top;\n",
              "    }\n",
              "\n",
              "    .dataframe thead th {\n",
              "        text-align: right;\n",
              "    }\n",
              "</style>\n",
              "<table border=\"1\" class=\"dataframe\">\n",
              "  <thead>\n",
              "    <tr style=\"text-align: right;\">\n",
              "      <th></th>\n",
              "      <th>id</th>\n",
              "      <th>gender</th>\n",
              "      <th>owns_car</th>\n",
              "      <th>owns_property</th>\n",
              "      <th>no_of_children</th>\n",
              "      <th>total_income</th>\n",
              "      <th>income_type</th>\n",
              "      <th>education_type</th>\n",
              "      <th>family_status</th>\n",
              "      <th>housing_type</th>\n",
              "      <th>birthday</th>\n",
              "      <th>employment_duration</th>\n",
              "      <th>owns_mobile</th>\n",
              "      <th>has_work_phone</th>\n",
              "      <th>owns_phone</th>\n",
              "      <th>owns_email</th>\n",
              "      <th>family_size</th>\n",
              "      <th>months_balance</th>\n",
              "      <th>status</th>\n",
              "      <th>default_status</th>\n",
              "    </tr>\n",
              "  </thead>\n",
              "  <tbody>\n",
              "    <tr>\n",
              "      <th>0</th>\n",
              "      <td>5008804</td>\n",
              "      <td>1</td>\n",
              "      <td>1</td>\n",
              "      <td>1</td>\n",
              "      <td>0</td>\n",
              "      <td>427500.0</td>\n",
              "      <td>4</td>\n",
              "      <td>1</td>\n",
              "      <td>0</td>\n",
              "      <td>4</td>\n",
              "      <td>-12005</td>\n",
              "      <td>-4542</td>\n",
              "      <td>1</td>\n",
              "      <td>1</td>\n",
              "      <td>0</td>\n",
              "      <td>0</td>\n",
              "      <td>2.0</td>\n",
              "      <td>0</td>\n",
              "      <td>C</td>\n",
              "      <td>0</td>\n",
              "    </tr>\n",
              "    <tr>\n",
              "      <th>1</th>\n",
              "      <td>5008804</td>\n",
              "      <td>1</td>\n",
              "      <td>1</td>\n",
              "      <td>1</td>\n",
              "      <td>0</td>\n",
              "      <td>427500.0</td>\n",
              "      <td>4</td>\n",
              "      <td>1</td>\n",
              "      <td>0</td>\n",
              "      <td>4</td>\n",
              "      <td>-12005</td>\n",
              "      <td>-4542</td>\n",
              "      <td>1</td>\n",
              "      <td>1</td>\n",
              "      <td>0</td>\n",
              "      <td>0</td>\n",
              "      <td>2.0</td>\n",
              "      <td>-1</td>\n",
              "      <td>C</td>\n",
              "      <td>0</td>\n",
              "    </tr>\n",
              "    <tr>\n",
              "      <th>2</th>\n",
              "      <td>5008804</td>\n",
              "      <td>1</td>\n",
              "      <td>1</td>\n",
              "      <td>1</td>\n",
              "      <td>0</td>\n",
              "      <td>427500.0</td>\n",
              "      <td>4</td>\n",
              "      <td>1</td>\n",
              "      <td>0</td>\n",
              "      <td>4</td>\n",
              "      <td>-12005</td>\n",
              "      <td>-4542</td>\n",
              "      <td>1</td>\n",
              "      <td>1</td>\n",
              "      <td>0</td>\n",
              "      <td>0</td>\n",
              "      <td>2.0</td>\n",
              "      <td>-2</td>\n",
              "      <td>C</td>\n",
              "      <td>0</td>\n",
              "    </tr>\n",
              "    <tr>\n",
              "      <th>3</th>\n",
              "      <td>5008804</td>\n",
              "      <td>1</td>\n",
              "      <td>1</td>\n",
              "      <td>1</td>\n",
              "      <td>0</td>\n",
              "      <td>427500.0</td>\n",
              "      <td>4</td>\n",
              "      <td>1</td>\n",
              "      <td>0</td>\n",
              "      <td>4</td>\n",
              "      <td>-12005</td>\n",
              "      <td>-4542</td>\n",
              "      <td>1</td>\n",
              "      <td>1</td>\n",
              "      <td>0</td>\n",
              "      <td>0</td>\n",
              "      <td>2.0</td>\n",
              "      <td>-3</td>\n",
              "      <td>C</td>\n",
              "      <td>0</td>\n",
              "    </tr>\n",
              "    <tr>\n",
              "      <th>4</th>\n",
              "      <td>5008804</td>\n",
              "      <td>1</td>\n",
              "      <td>1</td>\n",
              "      <td>1</td>\n",
              "      <td>0</td>\n",
              "      <td>427500.0</td>\n",
              "      <td>4</td>\n",
              "      <td>1</td>\n",
              "      <td>0</td>\n",
              "      <td>4</td>\n",
              "      <td>-12005</td>\n",
              "      <td>-4542</td>\n",
              "      <td>1</td>\n",
              "      <td>1</td>\n",
              "      <td>0</td>\n",
              "      <td>0</td>\n",
              "      <td>2.0</td>\n",
              "      <td>-4</td>\n",
              "      <td>C</td>\n",
              "      <td>0</td>\n",
              "    </tr>\n",
              "  </tbody>\n",
              "</table>\n",
              "</div>"
            ],
            "text/plain": [
              "        id  gender  owns_car  owns_property  no_of_children  total_income  \\\n",
              "0  5008804       1         1              1               0      427500.0   \n",
              "1  5008804       1         1              1               0      427500.0   \n",
              "2  5008804       1         1              1               0      427500.0   \n",
              "3  5008804       1         1              1               0      427500.0   \n",
              "4  5008804       1         1              1               0      427500.0   \n",
              "\n",
              "   income_type  education_type  family_status  housing_type  birthday  \\\n",
              "0            4               1              0             4    -12005   \n",
              "1            4               1              0             4    -12005   \n",
              "2            4               1              0             4    -12005   \n",
              "3            4               1              0             4    -12005   \n",
              "4            4               1              0             4    -12005   \n",
              "\n",
              "   employment_duration  owns_mobile  has_work_phone  owns_phone  owns_email  \\\n",
              "0                -4542            1               1           0           0   \n",
              "1                -4542            1               1           0           0   \n",
              "2                -4542            1               1           0           0   \n",
              "3                -4542            1               1           0           0   \n",
              "4                -4542            1               1           0           0   \n",
              "\n",
              "   family_size  months_balance status  default_status  \n",
              "0          2.0               0      C               0  \n",
              "1          2.0              -1      C               0  \n",
              "2          2.0              -2      C               0  \n",
              "3          2.0              -3      C               0  \n",
              "4          2.0              -4      C               0  "
            ]
          },
          "metadata": {
            "tags": []
          },
          "execution_count": 24
        }
      ]
    },
    {
      "cell_type": "markdown",
      "metadata": {
        "id": "VLG0JLppsKUD"
      },
      "source": [
        "Univariate Analysis"
      ]
    },
    {
      "cell_type": "markdown",
      "metadata": {
        "id": "OaQ6rxztsMJu"
      },
      "source": [
        "Categorical data\n",
        "Have a look at the distribution of each of the categorical data i.e gender, owns_car, income_type, education_type, family_status, housing_type, owns_mobile, has_work_phone, owns_phone, owns_email, occupation_type"
      ]
    },
    {
      "cell_type": "code",
      "metadata": {
        "id": "ab69karFsYHQ",
        "outputId": "a6be4a11-3146-4898-d7e8-c635a71e2314"
      },
      "source": [
        "# create a bar plot of the 'gender' variable\n",
        "fig=plt.figure()\n",
        "cx=fig.add_axes([0,0,1,1])\n",
        "data.gender.value_counts().plot(kind = 'bar', rot = 0, color = ['green', 'blue'])\n",
        "cx.set_xlabel('Gender')\n",
        "cx.set_title('Distribution of Gender')\n",
        "cx.set_xticklabels(['Female','Male'])\n",
        "plt.tick_params(axis=\"x\",direction=\"out\",length=4,width=2,pad=10,labelsize=10,labelbottom=True,labelrotation=20);"
      ],
      "execution_count": null,
      "outputs": [
        {
          "output_type": "display_data",
          "data": {
            "image/png": "[encoded data removed]",
            "text/plain": [
              "<Figure size 432x288 with 1 Axes>"
            ]
          },
          "metadata": {
            "tags": [],
            "needs_background": "light"
          }
        }
      ]
    },
    {
      "cell_type": "code",
      "metadata": {
        "id": "uRMIEV-2wHgJ",
        "outputId": "a0a5e1a1-d42e-4a09-be92-b7610701818d"
      },
      "source": [
        "# get the value counts of the 'owns_car' variable\n",
        "data.owns_car.value_counts()"
      ],
      "execution_count": null,
      "outputs": [
        {
          "output_type": "execute_result",
          "data": {
            "text/plain": [
              "0    136870\n",
              "1     82303\n",
              "Name: owns_car, dtype: int64"
            ]
          },
          "metadata": {
            "tags": []
          },
          "execution_count": 26
        }
      ]
    },
    {
      "cell_type": "code",
      "metadata": {
        "id": "VPA2l3rq3XfM",
        "outputId": "653b6bd2-c7b3-4a7a-b404-bf8dcb3921a5"
      },
      "source": [
        "# get the value counts of the 'owns_property' variable\n",
        "data.owns_property.value_counts()"
      ],
      "execution_count": null,
      "outputs": [
        {
          "output_type": "execute_result",
          "data": {
            "text/plain": [
              "1    144422\n",
              "0     74751\n",
              "Name: owns_property, dtype: int64"
            ]
          },
          "metadata": {
            "tags": []
          },
          "execution_count": 27
        }
      ]
    },
    {
      "cell_type": "code",
      "metadata": {
        "id": "VX_--Hf8xCr9",
        "outputId": "9255c77e-02cb-44c2-dc0c-dd535975122d"
      },
      "source": [
        "# get the value counts of the 'owns_mobile' variable\n",
        "data.owns_mobile.value_counts()"
      ],
      "execution_count": null,
      "outputs": [
        {
          "output_type": "execute_result",
          "data": {
            "text/plain": [
              "1    219173\n",
              "Name: owns_mobile, dtype: int64"
            ]
          },
          "metadata": {
            "tags": []
          },
          "execution_count": 28
        }
      ]
    },
    {
      "cell_type": "markdown",
      "metadata": {
        "id": "C496LmUoxeN3"
      },
      "source": [
        "Every customer owns a mobile phone hence the feature may not be of much help in analysis or modelling."
      ]
    },
    {
      "cell_type": "code",
      "metadata": {
        "id": "4PYnzhvoI1Pq",
        "outputId": "e5204c2f-a88b-4242-cabf-7e7a9ff51313"
      },
      "source": [
        "#Drop the owns_mobile feature\n",
        "data.drop(['owns_mobile'], axis = 1, inplace = True) \n",
        "data.head()"
      ],
      "execution_count": null,
      "outputs": [
        {
          "output_type": "execute_result",
          "data": {
            "text/html": [
              "<div>\n",
              "<style scoped>\n",
              "    .dataframe tbody tr th:only-of-type {\n",
              "        vertical-align: middle;\n",
              "    }\n",
              "\n",
              "    .dataframe tbody tr th {\n",
              "        vertical-align: top;\n",
              "    }\n",
              "\n",
              "    .dataframe thead th {\n",
              "        text-align: right;\n",
              "    }\n",
              "</style>\n",
              "<table border=\"1\" class=\"dataframe\">\n",
              "  <thead>\n",
              "    <tr style=\"text-align: right;\">\n",
              "      <th></th>\n",
              "      <th>id</th>\n",
              "      <th>gender</th>\n",
              "      <th>owns_car</th>\n",
              "      <th>owns_property</th>\n",
              "      <th>no_of_children</th>\n",
              "      <th>total_income</th>\n",
              "      <th>income_type</th>\n",
              "      <th>education_type</th>\n",
              "      <th>family_status</th>\n",
              "      <th>housing_type</th>\n",
              "      <th>birthday</th>\n",
              "      <th>employment_duration</th>\n",
              "      <th>has_work_phone</th>\n",
              "      <th>owns_phone</th>\n",
              "      <th>owns_email</th>\n",
              "      <th>family_size</th>\n",
              "      <th>months_balance</th>\n",
              "      <th>status</th>\n",
              "      <th>default_status</th>\n",
              "    </tr>\n",
              "  </thead>\n",
              "  <tbody>\n",
              "    <tr>\n",
              "      <th>0</th>\n",
              "      <td>5008804</td>\n",
              "      <td>1</td>\n",
              "      <td>1</td>\n",
              "      <td>1</td>\n",
              "      <td>0</td>\n",
              "      <td>427500.0</td>\n",
              "      <td>4</td>\n",
              "      <td>1</td>\n",
              "      <td>0</td>\n",
              "      <td>4</td>\n",
              "      <td>-12005</td>\n",
              "      <td>-4542</td>\n",
              "      <td>1</td>\n",
              "      <td>0</td>\n",
              "      <td>0</td>\n",
              "      <td>2.0</td>\n",
              "      <td>0</td>\n",
              "      <td>C</td>\n",
              "      <td>0</td>\n",
              "    </tr>\n",
              "    <tr>\n",
              "      <th>1</th>\n",
              "      <td>5008804</td>\n",
              "      <td>1</td>\n",
              "      <td>1</td>\n",
              "      <td>1</td>\n",
              "      <td>0</td>\n",
              "      <td>427500.0</td>\n",
              "      <td>4</td>\n",
              "      <td>1</td>\n",
              "      <td>0</td>\n",
              "      <td>4</td>\n",
              "      <td>-12005</td>\n",
              "      <td>-4542</td>\n",
              "      <td>1</td>\n",
              "      <td>0</td>\n",
              "      <td>0</td>\n",
              "      <td>2.0</td>\n",
              "      <td>-1</td>\n",
              "      <td>C</td>\n",
              "      <td>0</td>\n",
              "    </tr>\n",
              "    <tr>\n",
              "      <th>2</th>\n",
              "      <td>5008804</td>\n",
              "      <td>1</td>\n",
              "      <td>1</td>\n",
              "      <td>1</td>\n",
              "      <td>0</td>\n",
              "      <td>427500.0</td>\n",
              "      <td>4</td>\n",
              "      <td>1</td>\n",
              "      <td>0</td>\n",
              "      <td>4</td>\n",
              "      <td>-12005</td>\n",
              "      <td>-4542</td>\n",
              "      <td>1</td>\n",
              "      <td>0</td>\n",
              "      <td>0</td>\n",
              "      <td>2.0</td>\n",
              "      <td>-2</td>\n",
              "      <td>C</td>\n",
              "      <td>0</td>\n",
              "    </tr>\n",
              "    <tr>\n",
              "      <th>3</th>\n",
              "      <td>5008804</td>\n",
              "      <td>1</td>\n",
              "      <td>1</td>\n",
              "      <td>1</td>\n",
              "      <td>0</td>\n",
              "      <td>427500.0</td>\n",
              "      <td>4</td>\n",
              "      <td>1</td>\n",
              "      <td>0</td>\n",
              "      <td>4</td>\n",
              "      <td>-12005</td>\n",
              "      <td>-4542</td>\n",
              "      <td>1</td>\n",
              "      <td>0</td>\n",
              "      <td>0</td>\n",
              "      <td>2.0</td>\n",
              "      <td>-3</td>\n",
              "      <td>C</td>\n",
              "      <td>0</td>\n",
              "    </tr>\n",
              "    <tr>\n",
              "      <th>4</th>\n",
              "      <td>5008804</td>\n",
              "      <td>1</td>\n",
              "      <td>1</td>\n",
              "      <td>1</td>\n",
              "      <td>0</td>\n",
              "      <td>427500.0</td>\n",
              "      <td>4</td>\n",
              "      <td>1</td>\n",
              "      <td>0</td>\n",
              "      <td>4</td>\n",
              "      <td>-12005</td>\n",
              "      <td>-4542</td>\n",
              "      <td>1</td>\n",
              "      <td>0</td>\n",
              "      <td>0</td>\n",
              "      <td>2.0</td>\n",
              "      <td>-4</td>\n",
              "      <td>C</td>\n",
              "      <td>0</td>\n",
              "    </tr>\n",
              "  </tbody>\n",
              "</table>\n",
              "</div>"
            ],
            "text/plain": [
              "        id  gender  owns_car  owns_property  no_of_children  total_income  \\\n",
              "0  5008804       1         1              1               0      427500.0   \n",
              "1  5008804       1         1              1               0      427500.0   \n",
              "2  5008804       1         1              1               0      427500.0   \n",
              "3  5008804       1         1              1               0      427500.0   \n",
              "4  5008804       1         1              1               0      427500.0   \n",
              "\n",
              "   income_type  education_type  family_status  housing_type  birthday  \\\n",
              "0            4               1              0             4    -12005   \n",
              "1            4               1              0             4    -12005   \n",
              "2            4               1              0             4    -12005   \n",
              "3            4               1              0             4    -12005   \n",
              "4            4               1              0             4    -12005   \n",
              "\n",
              "   employment_duration  has_work_phone  owns_phone  owns_email  family_size  \\\n",
              "0                -4542               1           0           0          2.0   \n",
              "1                -4542               1           0           0          2.0   \n",
              "2                -4542               1           0           0          2.0   \n",
              "3                -4542               1           0           0          2.0   \n",
              "4                -4542               1           0           0          2.0   \n",
              "\n",
              "   months_balance status  default_status  \n",
              "0               0      C               0  \n",
              "1              -1      C               0  \n",
              "2              -2      C               0  \n",
              "3              -3      C               0  \n",
              "4              -4      C               0  "
            ]
          },
          "metadata": {
            "tags": []
          },
          "execution_count": 29
        }
      ]
    },
    {
      "cell_type": "code",
      "metadata": {
        "id": "wqTcXycOxw9R",
        "outputId": "3c23f1a1-ca93-47da-b64e-031ab2c25d96"
      },
      "source": [
        "# get the value counts of the 'has_work_phone' variable\n",
        "data.has_work_phone.value_counts()"
      ],
      "execution_count": null,
      "outputs": [
        {
          "output_type": "execute_result",
          "data": {
            "text/plain": [
              "0    169786\n",
              "1     49387\n",
              "Name: has_work_phone, dtype: int64"
            ]
          },
          "metadata": {
            "tags": []
          },
          "execution_count": 30
        }
      ]
    },
    {
      "cell_type": "code",
      "metadata": {
        "id": "BY6dajJxyIVa",
        "outputId": "71c24b56-8c8b-4064-a1c1-1563f1a91a7d"
      },
      "source": [
        "# get the value counts of the 'owns_phone' variable\n",
        "data.owns_phone.value_counts()"
      ],
      "execution_count": null,
      "outputs": [
        {
          "output_type": "execute_result",
          "data": {
            "text/plain": [
              "0    155059\n",
              "1     64114\n",
              "Name: owns_phone, dtype: int64"
            ]
          },
          "metadata": {
            "tags": []
          },
          "execution_count": 31
        }
      ]
    },
    {
      "cell_type": "code",
      "metadata": {
        "id": "NLvt_xIJyXs_",
        "outputId": "953307ff-d975-4268-b001-d8d848fc6a80"
      },
      "source": [
        "# get the value counts of the 'owns_email' variable\n",
        "data.owns_email.value_counts()"
      ],
      "execution_count": null,
      "outputs": [
        {
          "output_type": "execute_result",
          "data": {
            "text/plain": [
              "0    200592\n",
              "1     18581\n",
              "Name: owns_email, dtype: int64"
            ]
          },
          "metadata": {
            "tags": []
          },
          "execution_count": 32
        }
      ]
    },
    {
      "cell_type": "code",
      "metadata": {
        "id": "bupryDBqyxZx",
        "outputId": "4fedb953-1537-49e4-ad04-a52ea81fe734"
      },
      "source": [
        "# create a bar plot of the 'income_type' variable\n",
        "fig=plt.figure()\n",
        "bx=fig.add_axes([0,0,1,1])\n",
        "data.income_type.value_counts().plot(kind = 'bar', rot = 15, \n",
        "                                    color = sns.color_palette('rocket', data.income_type.nunique()))\n",
        "bx.set_xlabel('Income Type')\n",
        "bx.set_title('Distribution of Income Type')\n",
        "bx.set_xticklabels(['working','commercial associate','pensioner','state servant','student'])\n",
        "plt.tick_params(axis=\"x\",direction=\"out\",length=4,width=2,pad=10,labelsize=10,labelbottom=True,labelrotation=20);\n",
        "plt.xticks(ha = 'right');\n"
      ],
      "execution_count": null,
      "outputs": [
        {
          "output_type": "display_data",
          "data": {
            "image/png": "[encoded data removed]",
            "text/plain": [
              "<Figure size 432x288 with 1 Axes>"
            ]
          },
          "metadata": {
            "tags": [],
            "needs_background": "light"
          }
        }
      ]
    },
    {
      "cell_type": "code",
      "metadata": {
        "id": "hlJe3IhdzX3y",
        "outputId": "3c739f2f-3e79-4b2d-b06b-61eac4994958"
      },
      "source": [
        "# create a bar plot of the 'education_type' variable\n",
        "fig=plt.figure()\n",
        "dx=fig.add_axes([0,0,1,1])\n",
        "data.education_type.value_counts().plot(kind = 'bar', rot = 15, \n",
        "                                    color = sns.color_palette('rocket', data.education_type.nunique()))\n",
        "dx.set_xlabel('Education Type')\n",
        "dx.set_title('Distribution of Education Type')\n",
        "dx.set_xticklabels(['secondary','higher education','incomplete higher','lower secondary','academic degree'])\n",
        "plt.tick_params(axis=\"x\",direction=\"out\",length=4,width=2,pad=10,labelsize=10,labelbottom=True,labelrotation=20)\n",
        "plt.xticks(ha = 'right');\n"
      ],
      "execution_count": null,
      "outputs": [
        {
          "output_type": "display_data",
          "data": {
            "image/png": "[encoded data removed]",
            "text/plain": [
              "<Figure size 432x288 with 1 Axes>"
            ]
          },
          "metadata": {
            "tags": [],
            "needs_background": "light"
          }
        }
      ]
    },
    {
      "cell_type": "code",
      "metadata": {
        "id": "2d1NtsSY0Iu7",
        "outputId": "dfebb115-390e-4c78-ab81-d459df44df67"
      },
      "source": [
        "# create a bar plot of the 'family_status' variable\n",
        "fig=plt.figure()\n",
        "fx=fig.add_axes([0,0,1,1])\n",
        "data.family_status.value_counts().plot(kind = 'bar', rot = 15, \n",
        "                                    color = sns.color_palette('rocket', data.family_status.nunique()))\n",
        "fx.set_xlabel('Family Status')\n",
        "fx.set_title('Distribution of Family Status')\n",
        "fx.set_xticklabels(['married','single','civil marriage','seperated','widow'])\n",
        "plt.tick_params(axis=\"x\",direction=\"out\",length=4,width=2,pad=10,labelsize=10,labelbottom=True,labelrotation=20)\n",
        "plt.xticks(ha = 'right');\n"
      ],
      "execution_count": null,
      "outputs": [
        {
          "output_type": "display_data",
          "data": {
            "image/png": "[encoded data removed]",
            "text/plain": [
              "<Figure size 432x288 with 1 Axes>"
            ]
          },
          "metadata": {
            "tags": [],
            "needs_background": "light"
          }
        }
      ]
    },
    {
      "cell_type": "code",
      "metadata": {
        "id": "7XSntxfx0kVG",
        "outputId": "8df27fdd-6889-4abb-dead-f046b4e4a0c5"
      },
      "source": [
        "# create a bar plot of the 'housing_type' variable\n",
        "fig=plt.figure()\n",
        "gx=fig.add_axes([0,0,1,1])\n",
        "data.housing_type.value_counts().plot(kind = 'bar', rot = 15, \n",
        "                                    color = sns.color_palette('rocket', data.housing_type.nunique()))\n",
        "gx.set_xlabel('Housing Type')\n",
        "gx.set_title('Distribution of Housing Type')\n",
        "gx.set_xticklabels(['apartment','with parents','municipal apartment','rented apartment','office apartment','co-op apartment'])\n",
        "plt.tick_params(axis=\"x\",direction=\"out\",length=4,width=2,pad=10,labelsize=10,labelbottom=True,labelrotation=20);\n",
        "plt.xticks(ha = 'right');\n"
      ],
      "execution_count": null,
      "outputs": [
        {
          "output_type": "display_data",
          "data": {
            "image/png": "[encoded data removed]",
            "text/plain": [
              "<Figure size 432x288 with 1 Axes>"
            ]
          },
          "metadata": {
            "tags": [],
            "needs_background": "light"
          }
        }
      ]
    },
    {
      "cell_type": "markdown",
      "metadata": {
        "id": "REv4GMbJ1nVE"
      },
      "source": [
        "Continuous Data"
      ]
    },
    {
      "cell_type": "code",
      "metadata": {
        "id": "uF9lWpPj1zKN",
        "outputId": "22dc6792-ad0c-4a09-bf18-1422188c8be5"
      },
      "source": [
        "# create a bar plot of the 'no_of_children' variable\n",
        "plt.figure(figsize = (8, 6))\n",
        "data.no_of_children.value_counts().plot(kind = 'bar', rot = 0)\n",
        "plt.xlabel('No of Children')\n",
        "plt.title('Distribution of Children')\n",
        "plt.show()"
      ],
      "execution_count": null,
      "outputs": [
        {
          "output_type": "display_data",
          "data": {
            "image/png": "[encoded data removed]",
            "text/plain": [
              "<Figure size 576x432 with 1 Axes>"
            ]
          },
          "metadata": {
            "tags": [],
            "needs_background": "light"
          }
        }
      ]
    },
    {
      "cell_type": "code",
      "metadata": {
        "id": "2yOd275f8xpx",
        "outputId": "a109840a-3bb4-4949-df06-04e8c4bc77ab"
      },
      "source": [
        "# create a bar plot of the 'family_size' variable\n",
        "plt.figure(figsize = (8, 6))\n",
        "data.family_size.value_counts().plot(kind = 'bar', rot = 0)\n",
        "plt.xlabel('Family Size')\n",
        "plt.title('Family Size')\n",
        "plt.show()"
      ],
      "execution_count": null,
      "outputs": [
        {
          "output_type": "display_data",
          "data": {
            "image/png": "[encoded data removed]",
            "text/plain": [
              "<Figure size 576x432 with 1 Axes>"
            ]
          },
          "metadata": {
            "tags": [],
            "needs_background": "light"
          }
        }
      ]
    },
    {
      "cell_type": "code",
      "metadata": {
        "id": "9laoSKlf9dfP",
        "outputId": "7a6c63fb-0217-47a4-fb5e-69e9457c7ac8"
      },
      "source": [
        "#Plot for income distribution\n",
        "income = pd.Series(data.total_income, name=\"income\")\n",
        "sns.distplot(income)\n",
        "plt.show()"
      ],
      "execution_count": null,
      "outputs": [
        {
          "output_type": "display_data",
          "data": {
            "image/png": "[encoded data removed]",
            "text/plain": [
              "<Figure size 432x288 with 1 Axes>"
            ]
          },
          "metadata": {
            "tags": [],
            "needs_background": "light"
          }
        }
      ]
    },
    {
      "cell_type": "code",
      "metadata": {
        "id": "_kQQwYc4HDPq",
        "outputId": "d917f519-48b0-4ddd-df5e-b92112448303"
      },
      "source": [
        "#Birth days\n",
        "birth_days = data.birthday.apply(lambda x: int(-x // 365))\n",
        "sns.distplot(birth_days)\n",
        "plt.show()"
      ],
      "execution_count": null,
      "outputs": [
        {
          "output_type": "display_data",
          "data": {
            "image/png": "[encoded data removed]",
            "text/plain": [
              "<Figure size 432x288 with 1 Axes>"
            ]
          },
          "metadata": {
            "tags": [],
            "needs_background": "light"
          }
        }
      ]
    },
    {
      "cell_type": "code",
      "metadata": {
        "id": "fsQDIPhXJH8l",
        "outputId": "cee6cbac-45e1-4dbd-b4ad-f2e6eefc8ae7"
      },
      "source": [
        "#Employment duration\n",
        "employment_duration = data[data.employment_duration<0].employment_duration.apply(lambda x: int(-x // 365))\n",
        "sns.distplot(employment_duration)\n",
        "plt.show()"
      ],
      "execution_count": null,
      "outputs": [
        {
          "output_type": "display_data",
          "data": {
            "image/png": "[encoded data removed]",
            "text/plain": [
              "<Figure size 432x288 with 1 Axes>"
            ]
          },
          "metadata": {
            "tags": [],
            "needs_background": "light"
          }
        }
      ]
    },
    {
      "cell_type": "markdown",
      "metadata": {
        "id": "ARhW4kbkKrQO"
      },
      "source": [
        "Bivariate Analysis"
      ]
    },
    {
      "cell_type": "code",
      "metadata": {
        "id": "UHeRRpqgKwou"
      },
      "source": [
        "corr = data.corr()"
      ],
      "execution_count": null,
      "outputs": []
    },
    {
      "cell_type": "code",
      "metadata": {
        "id": "8xcFljaHLR7E",
        "outputId": "0a220136-1264-432b-fdf3-618a69c0a2e7"
      },
      "source": [
        "# create a heatmap of the correlations of the variables in the dataset\n",
        "\n",
        "\n",
        "\n",
        "# Generate heat map, allow annotations and place floats in map\n",
        "sns.heatmap(corr, annot = True, fmt = \".2f\")"
      ],
      "execution_count": null,
      "outputs": [
        {
          "output_type": "execute_result",
          "data": {
            "text/plain": [
              "<matplotlib.axes._subplots.AxesSubplot at 0x20e279116d8>"
            ]
          },
          "metadata": {
            "tags": []
          },
          "execution_count": 43
        },
        {
          "output_type": "display_data",
          "data": {
            "image/png": "[encoded data removed]",
            "text/plain": [
              "<Figure size 432x288 with 2 Axes>"
            ]
          },
          "metadata": {
            "tags": [],
            "needs_background": "light"
          }
        }
      ]
    },
    {
      "cell_type": "code",
      "metadata": {
        "id": "AjKLhVUAPjJX",
        "outputId": "23b09b21-0051-4092-f965-8c81c690cf4d"
      },
      "source": [
        "#boxplot for family size against dafault status\n",
        "sns.boxplot(x = 'default_status', y = 'family_size', data = data)\n",
        "plt.show()"
      ],
      "execution_count": null,
      "outputs": [
        {
          "output_type": "display_data",
          "data": {
            "image/png": "[encoded data removed]",
            "text/plain": [
              "<Figure size 432x288 with 1 Axes>"
            ]
          },
          "metadata": {
            "tags": [],
            "needs_background": "light"
          }
        }
      ]
    },
    {
      "cell_type": "code",
      "metadata": {
        "id": "ZEoF9jB1QaKo",
        "outputId": "e18b246d-369f-413a-8a4b-7d21bf640e32"
      },
      "source": [
        "#violinplot for family size against dafault status\n",
        "sns.violinplot(x = 'default_status', y = 'total_income', data = data, size = 8)\n",
        "plt.show()"
      ],
      "execution_count": null,
      "outputs": [
        {
          "output_type": "display_data",
          "data": {
            "image/png": "[encoded data removed]",
            "text/plain": [
              "<Figure size 432x288 with 1 Axes>"
            ]
          },
          "metadata": {
            "tags": [],
            "needs_background": "light"
          }
        }
      ]
    },
    {
      "cell_type": "code",
      "metadata": {
        "id": "X9p12nY_RAPH"
      },
      "source": [
        "#Pair plot to show relationship between features in the dataset\n",
        "#sns.pairplot(data)"
      ],
      "execution_count": null,
      "outputs": []
    },
    {
      "cell_type": "markdown",
      "metadata": {
        "id": "GOYJ_qWVgDoE"
      },
      "source": [
        "## Feature selection for our model"
      ]
    },
    {
      "cell_type": "code",
      "metadata": {
        "id": "yd4eJpHHgDoF",
        "outputId": "9f122477-6865-4995-fa8f-445cc8a79f72"
      },
      "source": [
        "target=data['default_status']\n",
        "features=data[['owns_car','owns_property','no_of_children','total_income','income_type','education_type',\n",
        "                       'family_status','housing_type','employment_duration','has_work_phone','owns_phone','family_size']]\n",
        "feature_names=data.columns\n",
        "from yellowbrick.target import FeatureCorrelation\n",
        "visual=FeatureCorrelation(labels=feature_names,method='pearson')\n",
        "visual.fit(features,target)\n",
        "visual.poof()"
      ],
      "execution_count": null,
      "outputs": [
        {
          "output_type": "stream",
          "text": [
            "C:\\Users\\betty123\\OneDrive\\Documents\\lib\\site-packages\\sklearn\\utils\\deprecation.py:143: FutureWarning: The sklearn.metrics.classification module is  deprecated in version 0.22 and will be removed in version 0.24. The corresponding classes / functions should instead be imported from sklearn.metrics. Anything that cannot be imported from sklearn.metrics is now part of the private API.\n",
            "  warnings.warn(message, FutureWarning)\n",
            "C:\\Users\\betty123\\OneDrive\\Documents\\lib\\site-packages\\sklearn\\base.py:213: FutureWarning: From version 0.24, get_params will raise an AttributeError if a parameter cannot be retrieved as an instance attribute. Previously it would return None.\n",
            "  FutureWarning)\n"
          ],
          "name": "stderr"
        },
        {
          "output_type": "display_data",
          "data": {
            "image/png": "[encoded data removed]",
            "text/plain": [
              "<Figure size 576x396 with 1 Axes>"
            ]
          },
          "metadata": {
            "tags": []
          }
        },
        {
          "output_type": "execute_result",
          "data": {
            "text/plain": [
              "<matplotlib.axes._subplots.AxesSubplot at 0x20e3b053eb8>"
            ]
          },
          "metadata": {
            "tags": []
          },
          "execution_count": 47
        }
      ]
    },
    {
      "cell_type": "code",
      "metadata": {
        "id": "XdXyzrLUgDoG"
      },
      "source": [
        "X=data[['gender','no_of_children','owns_car','owns_property','education_type','income_type','total_income','employment_duration']]\n",
        "Y=data['default_status']"
      ],
      "execution_count": null,
      "outputs": []
    },
    {
      "cell_type": "code",
      "metadata": {
        "id": "u5x2BzhOgDoH"
      },
      "source": [
        "from sklearn.linear_model import LogisticRegression\n",
        "from sklearn.tree import DecisionTreeClassifier\n"
      ],
      "execution_count": null,
      "outputs": []
    },
    {
      "cell_type": "code",
      "metadata": {
        "id": "5aSgjxcOgDoH"
      },
      "source": [
        "from sklearn.model_selection import train_test_split\n",
        "train_X,test_X,train_Y,test_Y=train_test_split(X,Y,train_size=0.75,\n",
        "                                               test_size=0.25,\n",
        "                                               random_state=123,\n",
        "                                              stratify =Y)"
      ],
      "execution_count": null,
      "outputs": []
    },
    {
      "cell_type": "code",
      "metadata": {
        "id": "EcftDbq_gDoI",
        "outputId": "555dbf9d-5ca4-4dfa-88c8-42a79f338e0f"
      },
      "source": [
        "print(\"Training data: \", train_X.shape)\n",
        "print(\"Test data: \", test_X.shape)"
      ],
      "execution_count": null,
      "outputs": [
        {
          "output_type": "stream",
          "text": [
            "Training data:  (164379, 8)\n",
            "Test data:  (54794, 8)\n"
          ],
          "name": "stdout"
        }
      ]
    },
    {
      "cell_type": "code",
      "metadata": {
        "id": "msc2WktogDoK"
      },
      "source": [
        "classifier=LogisticRegression(C=0.8,\n",
        "                           random_state=0,\n",
        "                           solver='lbfgs')"
      ],
      "execution_count": null,
      "outputs": []
    },
    {
      "cell_type": "code",
      "metadata": {
        "id": "lIAX69vUgDoK",
        "outputId": "08f6416c-e790-41b6-8642-c10f7b9ad476"
      },
      "source": [
        "classifier.fit(train_X,train_Y)"
      ],
      "execution_count": null,
      "outputs": [
        {
          "output_type": "execute_result",
          "data": {
            "text/plain": [
              "LogisticRegression(C=0.8, random_state=0)"
            ]
          },
          "metadata": {
            "tags": []
          },
          "execution_count": 58
        }
      ]
    },
    {
      "cell_type": "code",
      "metadata": {
        "id": "NjwS9tPigDoL",
        "outputId": "d4ce293c-a348-4a68-8a2b-43a982953eec"
      },
      "source": [
        "prediction=classifier.predict(test_X) \n",
        "print(\"Predicted values:\", prediction)"
      ],
      "execution_count": null,
      "outputs": [
        {
          "output_type": "stream",
          "text": [
            "Predicted values: [0 0 0 ... 0 0 0]\n"
          ],
          "name": "stdout"
        }
      ]
    },
    {
      "cell_type": "code",
      "metadata": {
        "id": "UTsJ9ixbgDoM"
      },
      "source": [
        "from sklearn.metrics import accuracy_score, confusion_matrix"
      ],
      "execution_count": null,
      "outputs": []
    },
    {
      "cell_type": "code",
      "metadata": {
        "id": "2EYW7saEgDoM",
        "outputId": "6d640fa5-b057-46bd-c10b-3edfbdf41982"
      },
      "source": [
        "from sklearn.metrics import plot_confusion_matrix\n",
        "print('Accuracy Score is {:.5}'.format(accuracy_score(test_Y, prediction)))\n",
        "print(pd.DataFrame(confusion_matrix(test_Y,prediction)))\n",
        "\n",
        "sns.set_style('white') \n",
        "class_names = ['0','1']"
      ],
      "execution_count": null,
      "outputs": [
        {
          "output_type": "stream",
          "text": [
            "Accuracy Score is 0.61932\n",
            "       0  1\n",
            "0  33935  0\n",
            "1  20859  0\n"
          ],
          "name": "stdout"
        }
      ]
    },
    {
      "cell_type": "code",
      "metadata": {
        "id": "KJy39_Y5gDoN"
      },
      "source": [
        "tree_classifier=DecisionTreeClassifier(max_depth=12,\n",
        "                               min_samples_split=8,\n",
        "                               random_state=1024)"
      ],
      "execution_count": null,
      "outputs": []
    },
    {
      "cell_type": "code",
      "metadata": {
        "id": "WnCQ4vtbgDoO",
        "outputId": "b771abc1-f41b-4de2-bb81-d21c088daea0"
      },
      "source": [
        "tree_classifier.fit(train_X,train_Y)"
      ],
      "execution_count": null,
      "outputs": [
        {
          "output_type": "execute_result",
          "data": {
            "text/plain": [
              "DecisionTreeClassifier(max_depth=12, min_samples_split=8, random_state=1024)"
            ]
          },
          "metadata": {
            "tags": []
          },
          "execution_count": 63
        }
      ]
    },
    {
      "cell_type": "code",
      "metadata": {
        "id": "P_yj77xagDoP",
        "outputId": "75d66aaf-cf2e-4ca8-84f2-5f663e9da46a"
      },
      "source": [
        "tree_prediction=classifier.predict(test_X) \n",
        "print(\"Predicted values:\", tree_prediction)"
      ],
      "execution_count": null,
      "outputs": [
        {
          "output_type": "stream",
          "text": [
            "Predicted values: [0 0 0 ... 0 0 0]\n"
          ],
          "name": "stdout"
        }
      ]
    },
    {
      "cell_type": "code",
      "metadata": {
        "id": "Efq-rguigDoP",
        "outputId": "72e2adc5-bab9-4982-a500-0a9fae487311"
      },
      "source": [
        "print('Accuracy Score is {:.5}'.format(accuracy_score(test_Y, tree_prediction)))\n",
        "print(pd.DataFrame(confusion_matrix(test_Y,tree_prediction)))"
      ],
      "execution_count": null,
      "outputs": [
        {
          "output_type": "stream",
          "text": [
            "Accuracy Score is 0.61932\n",
            "       0  1\n",
            "0  33935  0\n",
            "1  20859  0\n"
          ],
          "name": "stdout"
        }
      ]
    },
    {
      "cell_type": "code",
      "metadata": {
        "id": "1FGu2SG1gDoQ"
      },
      "source": [
        "from sklearn import svm\n",
        "from sklearn.ensemble import RandomForestClassifier"
      ],
      "execution_count": null,
      "outputs": []
    },
    {
      "cell_type": "code",
      "metadata": {
        "id": "BWB__EDOgDoT"
      },
      "source": [
        "SV=svm.SVC(C = 0.8,\n",
        "                kernel='linear')\n",
        "forest_classifier=RandomForestClassifier(n_estimators=250,\n",
        "                              max_depth=12,\n",
        "                              min_samples_leaf=16)"
      ],
      "execution_count": null,
      "outputs": []
    },
    {
      "cell_type": "code",
      "metadata": {
        "id": "Je0c-JCagDoZ",
        "outputId": "1cd49312-9172-4118-b60d-c8c8dd697004"
      },
      "source": [
        "forest_classifier.fit(train_X,train_Y)"
      ],
      "execution_count": null,
      "outputs": [
        {
          "output_type": "execute_result",
          "data": {
            "text/plain": [
              "RandomForestClassifier(max_depth=12, min_samples_leaf=16, n_estimators=250)"
            ]
          },
          "metadata": {
            "tags": []
          },
          "execution_count": 68
        }
      ]
    },
    {
      "cell_type": "code",
      "metadata": {
        "id": "_G1VH4LVgDoa",
        "outputId": "16bb6d46-9c98-49c6-f800-9debbc511072"
      },
      "source": [
        "forest_prediction=forest_classifier.predict(test_X)\n",
        "print(\"Prediction values: \",forest_prediction)"
      ],
      "execution_count": null,
      "outputs": [
        {
          "output_type": "stream",
          "text": [
            "Prediction values:  [0 0 0 ... 0 0 0]\n"
          ],
          "name": "stdout"
        }
      ]
    },
    {
      "cell_type": "code",
      "metadata": {
        "id": "bKlyK_dAgDoa",
        "outputId": "258780b0-f471-45d2-c33f-d31a0a0ca4a8"
      },
      "source": [
        "print('Accuracy Score is {:.5}'.format(accuracy_score(test_Y, forest_prediction)))\n",
        "print(pd.DataFrame(confusion_matrix(test_Y,forest_prediction)))"
      ],
      "execution_count": null,
      "outputs": [
        {
          "output_type": "stream",
          "text": [
            "Accuracy Score is 0.67055\n",
            "       0     1\n",
            "0  33372   563\n",
            "1  17489  3370\n"
          ],
          "name": "stdout"
        }
      ]
    },
    {
      "cell_type": "code",
      "metadata": {
        "id": "MA7Ncz6vgDob"
      },
      "source": [
        "#SV.fit(train_X,train_Y)"
      ],
      "execution_count": null,
      "outputs": []
    },
    {
      "cell_type": "code",
      "metadata": {
        "id": "5dEZapIVjeim"
      },
      "source": [
        "#SV_prediction=SV.predict(test_X)\r\n",
        "#print(\"Prediction values: \",SV_prediction)"
      ],
      "execution_count": null,
      "outputs": []
    },
    {
      "cell_type": "code",
      "metadata": {
        "id": "w8tIYBtJjy_M"
      },
      "source": [
        "#print('Accuracy Score is {:.5}'.format(accuracy_score(test_Y, SV_prediction)))\r\n",
        "#print(pd.DataFrame(confusion_matrix(test_Y,SV_prediction)))"
      ],
      "execution_count": null,
      "outputs": []
    },
    {
      "cell_type": "code",
      "metadata": {
        "id": "w0A9Ts9Vj9WK"
      },
      "source": [
        "# picking the best algorithim and then saving your model\r\n",
        "#using joblib\r\n",
        "#from sklearn.externals import joblib\r\n",
        "#joblib_file= \"joblib_SV_model.pkl\"\r\n",
        "#joblib.dump(SV,joblib_file)\r\n",
        "#reload the saved model using joblib\r\n",
        "#joblib_SV_model=joblib.load(joblib_file)\r\n",
        "#joblib_SV_model\r\n",
        "#use it to calculate accuracy score and predict target \r\n",
        "#score = joblib_SV_model.score(test_X,test_Y)\r\n",
        "#print(\"Test score: {0: 2f} %\".format(100*score))\r\n",
        "#use it to predict the target values\r\n",
        "#predict_y=joblib_SV_model.predict(test_X)"
      ],
      "execution_count": null,
      "outputs": []
    },
    {
      "cell_type": "code",
      "metadata": {
        "id": "G2C226SRgDoc"
      },
      "source": [
        ""
      ],
      "execution_count": null,
      "outputs": []
    }
  ]
}