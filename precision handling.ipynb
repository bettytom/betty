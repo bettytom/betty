{
 "cells": [
  {
   "cell_type": "markdown",
   "metadata": {},
   "source": [
    "# a simple program to demonstrate working of yield\n",
    "def simpleGeneratorFun ():\n",
    "    yield 1\n",
    "    yield 2\n",
    "    yield 3\n",
    "for value in simpleGeneratorFun():\n",
    "    print(value)"
   ]
  },
  {
   "cell_type": "code",
   "execution_count": 8,
   "metadata": {},
   "outputs": [],
   "source": [
    "# a program to generate square from 1 to 100 using yield keyword\n",
    "def nextSquare ():\n",
    "    i = 1\n",
    "    yield i*i\n",
    "    i+=1\n",
    "for num in nextSquare ():\n",
    "    if num >100:\n",
    "        break\n",
    "        print(num)"
   ]
  },
  {
   "cell_type": "code",
   "execution_count": 7,
   "metadata": {},
   "outputs": [
    {
     "name": "stdout",
     "output_type": "stream",
     "text": [
      "The integral value of number is: 3\n",
      "\n",
      "The smallest integer greater than number is: 4\n",
      "\n",
      "The greatest integer smaller than number is: 3\n"
     ]
    }
   ],
   "source": [
    "# demonstrate ceil(), trunc() and floor()\n",
    "#importing \"math\" for precision function\n",
    "# value\n",
    "import math\n",
    "a = 3.4536\n",
    "print (\"The integral value of number is: \", end=\"\")\n",
    "print (math.trunc(a))\n",
    "print()\n",
    "print(\"The smallest integer greater than number is: \",end=\"\")\n",
    "print(math.ceil(a))\n",
    "print()\n",
    "print (\"The greatest integer smaller than number is: \", end=\"\")\n",
    "print(math.floor(a))\n",
    "\n",
    "\n"
   ]
  },
  {
   "cell_type": "code",
   "execution_count": null,
   "metadata": {},
   "outputs": [],
   "source": []
  }
 ],
 "metadata": {
  "kernelspec": {
   "display_name": "Python 3",
   "language": "python",
   "name": "python3"
  },
  "language_info": {
   "codemirror_mode": {
    "name": "ipython",
    "version": 3
   },
   "file_extension": ".py",
   "mimetype": "text/x-python",
   "name": "python",
   "nbconvert_exporter": "python",
   "pygments_lexer": "ipython3",
   "version": "3.7.1"
  }
 },
 "nbformat": 4,
 "nbformat_minor": 2
}
