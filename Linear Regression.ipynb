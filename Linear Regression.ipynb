{
 "cells": [
  {
   "cell_type": "markdown",
   "metadata": {},
   "source": [
    "# Linear Regression"
   ]
  },
  {
   "cell_type": "code",
   "execution_count": 2,
   "metadata": {},
   "outputs": [],
   "source": [
    "import pandas as pd\n",
    "import numpy as np\n",
    "import matplotlib.pyplot as plt\n",
    "%matplotlib inline\n",
    "plt.rcParams['figure.figsize']= (20.0,10.0)"
   ]
  },
  {
   "cell_type": "markdown",
   "metadata": {},
   "source": [
    "- the linear equation\n",
    "   - y=mx+c\n",
    "- this means that change in the mean of y is a result of change of the gradient mulitiplied by the mean of x plus the y-intercept(the place where x-axis and y-axis meet)\n",
    "\n",
    "```python\n",
    "# looking for the gradient and the y-interceept and the mean Y\n",
    "mean_x=np.mean(X)\n",
    "mean_y=np.mean(Y)\n",
    "\n",
    "# total number of values\n",
    "n=len(X)\n",
    "\n",
    "# using the formula to calculate b1 and b0\n",
    "numer=0\n",
    "denom=0\n",
    "for i in range(m):\n",
    "    numer += (X[i]-mean_x)*(Y[i]-mean_y)\n",
    "    denom += (X[i]-mean_x)**2\n",
    "b1= numer/denom  # this is the gradient of the line - m\n",
    "b0= mean_y-(b1*mean_x) # this is the y-intercept ,basically ( c = y - mx)\n",
    "\n",
    "# print(coefficients)\n",
    "print(b1,b0)\n",
    "```"
   ]
  },
  {
   "cell_type": "markdown",
   "metadata": {},
   "source": [
    "# Plotting the Regressioon line"
   ]
  },
  {
   "cell_type": "markdown",
   "metadata": {},
   "source": [
    "```python\n",
    "#plotting values and regression line\n",
    "\n",
    "max_x= np.max(X)\n",
    "min_x= np.min(X)\n",
    "\n",
    "# calcualating the lne values x and y\n",
    "x=np.linspace(min_x,max_x, 1000)\n",
    "y= b0 +b1*x\n",
    "\n",
    "# plotting the line\n",
    "plt.plot(x,y, color='blue', label='Regression Line')\n",
    "# plotting the scatter points\n",
    "plt.plot(X,Y, color='red', label='Scatter Plot')\n",
    "\n",
    "plt.xlabel('Head Size in cm^3')\n",
    "plt.ylabel('Brain Weight in grams')\n",
    "plt.legend();\n",
    "```\n",
    "\n",
    "      "
   ]
  },
  {
   "cell_type": "markdown",
   "metadata": {},
   "source": [
    "# Now using the LinearRegression() algorithim"
   ]
  },
  {
   "cell_type": "markdown",
   "metadata": {},
   "source": [
    "```python\n",
    "from sklearn.linear_model import LinearRegression\n",
    "from sklearn.metrics import mean_squared_error\n",
    "\n",
    "X.reshape((m,1))\n",
    "# creating the model\n",
    "reg= LinearRegression()\n",
    "\n",
    "# fitting the training data\n",
    "reg.fit(X,Y)\n",
    "\n",
    "# Y prediction\n",
    "Y_pred= reg.predict(X)\n",
    "\n",
    "# calaculating the R2 score\n",
    "r2_score= reg.score( X,Y)\n",
    "\n",
    "print(r2_score)\n",
    "```"
   ]
  },
  {
   "cell_type": "code",
   "execution_count": null,
   "metadata": {},
   "outputs": [],
   "source": []
  }
 ],
 "metadata": {
  "kernelspec": {
   "display_name": "Python 3",
   "language": "python",
   "name": "python3"
  },
  "language_info": {
   "codemirror_mode": {
    "name": "ipython",
    "version": 3
   },
   "file_extension": ".py",
   "mimetype": "text/x-python",
   "name": "python",
   "nbconvert_exporter": "python",
   "pygments_lexer": "ipython3",
   "version": "3.7.3"
  }
 },
 "nbformat": 4,
 "nbformat_minor": 2
}
