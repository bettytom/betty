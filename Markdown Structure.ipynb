{
 "cells": [
  {
   "cell_type": "code",
   "execution_count": 1,
   "metadata": {},
   "outputs": [],
   "source": [
    "# how to use markdown for better coding\n"
   ]
  },
  {
   "cell_type": "markdown",
   "metadata": {},
   "source": [
    "# Headings\n",
    "\n",
    "# H1\n",
    "## H2\n",
    "### H3\n",
    "#### H4\n",
    "##### H5\n",
    "###### H6"
   ]
  },
  {
   "cell_type": "markdown",
   "metadata": {},
   "source": [
    "## Font Styles\n",
    "1. Bold Font\n",
    "2. Italic Font"
   ]
  },
  {
   "cell_type": "markdown",
   "metadata": {},
   "source": [
    "**Betty Wairegi** (**Bold**)\n",
    "_Betty Wairegi_ ( _italics_ ) \n",
    "\n",
    "_scratched text_\n",
    "\n",
    "*bob njogu*"
   ]
  },
  {
   "cell_type": "markdown",
   "metadata": {},
   "source": [
    "# Lists"
   ]
  },
  {
   "cell_type": "markdown",
   "metadata": {},
   "source": [
    "- item\n",
    "- subitem\n",
    "- unitem \n",
    "\n",
    " or\n",
    " \n",
    " 1. item\n",
    "     1. toy\n",
    " 2. subitem\n",
    "     2. hairdoll\n",
    " 3. unitem\n"
   ]
  },
  {
   "cell_type": "markdown",
   "metadata": {},
   "source": [
    "## Links"
   ]
  },
  {
   "cell_type": "markdown",
   "metadata": {},
   "source": [
    "http://www.github.com"
   ]
  },
  {
   "cell_type": "markdown",
   "metadata": {},
   "source": [
    "### Images"
   ]
  },
  {
   "cell_type": "markdown",
   "metadata": {},
   "source": [
    "![God I Long To Worship You](Users/betty123/Pictures/God I Long To Worship You.file)"
   ]
  },
  {
   "cell_type": "markdown",
   "metadata": {},
   "source": [
    "## Qoutes"
   ]
  },
  {
   "cell_type": "markdown",
   "metadata": {},
   "source": [
    "> why, oh why Javascript???\n",
    "\n",
    "> [Fernando Perez](http://twitter.com/fperez_org)"
   ]
  },
  {
   "cell_type": "markdown",
   "metadata": {},
   "source": [
    "## Tables"
   ]
  },
  {
   "cell_type": "markdown",
   "metadata": {},
   "source": [
    "|Tables       | Area           | Cool  |\n",
    "|-------------| :-------------:| -----:|\n",
    "|col 3 is     | right-alingned | 1600  |\n",
    "|zebra stripes| are neat       | 1     |"
   ]
  },
  {
   "cell_type": "markdown",
   "metadata": {},
   "source": [
    "## Adding code"
   ]
  },
  {
   "cell_type": "markdown",
   "metadata": {},
   "source": [
    "Python Code\n",
    "```python\n",
    "x=5\n",
    "print \"%.2f\" % x\n",
    "```"
   ]
  },
  {
   "cell_type": "markdown",
   "metadata": {},
   "source": [
    "## LATEX"
   ]
  },
  {
   "cell_type": "markdown",
   "metadata": {},
   "source": [
    "Latex is a large typeset for scientific documentation which includes symbols for mathematics, statistics, physics and compter science.\n",
    "\n",
    "Example:\n",
    "\n",
    "you can use LaTex in line by like this $y= x^2$ or in block like this $$y= x^2$$"
   ]
  },
  {
   "cell_type": "markdown",
   "metadata": {},
   "source": [
    "### Operators"
   ]
  },
  {
   "cell_type": "markdown",
   "metadata": {},
   "source": [
    "- Add\n",
    " - $x+y$\n",
    "- Subtract\n",
    " - $x-y$\n",
    "- Multiply\n",
    " - $x*y$\n",
    " - $a . b$\n",
    " - $r \\times s$\n",
    "- Divide\n",
    " - $x / y$\n",
    " - $f \\div t$\n",
    " - $\\frac{x}{y}$\n",
    "\n"
   ]
  },
  {
   "cell_type": "markdown",
   "metadata": {},
   "source": [
    "### Relations"
   ]
  },
  {
   "cell_type": "markdown",
   "metadata": {},
   "source": [
    "- $\\pi\\approx 3.141595$\n",
    "- ${1\\over 0} \\neq \\infty$\n",
    "- $0 < x > 1$\n",
    "- $0 \\leq x \\geq 1$"
   ]
  },
  {
   "cell_type": "markdown",
   "metadata": {},
   "source": [
    "### Fractions"
   ]
  },
  {
   "cell_type": "markdown",
   "metadata": {},
   "source": [
    "- $^1/_2$\n",
    "- $\\frac{1}{2x}$\n",
    "- ${3 \\over 4}$\n"
   ]
  },
  {
   "cell_type": "code",
   "execution_count": null,
   "metadata": {},
   "outputs": [],
   "source": []
  }
 ],
 "metadata": {
  "kernelspec": {
   "display_name": "Python 3",
   "language": "python",
   "name": "python3"
  },
  "language_info": {
   "codemirror_mode": {
    "name": "ipython",
    "version": 3
   },
   "file_extension": ".py",
   "mimetype": "text/x-python",
   "name": "python",
   "nbconvert_exporter": "python",
   "pygments_lexer": "ipython3",
   "version": "3.7.3"
  }
 },
 "nbformat": 4,
 "nbformat_minor": 2
}
