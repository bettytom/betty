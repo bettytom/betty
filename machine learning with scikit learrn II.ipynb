{
 "cells": [
  {
   "cell_type": "code",
   "execution_count": 3,
   "metadata": {},
   "outputs": [],
   "source": [
    "import numpy as np\n",
    "import random\n",
    "from sklearn.model_selection import train_test_split\n",
    "from sklearn.feature_extraction.text import CountVectorizer,TfidVectorizer\n",
    "from sklearn.metrics import f1_score\n",
    "import json\n",
    "# the CountVectorizer converts a collection of text documentation to a matrix of token counts"
   ]
  },
  {
   "cell_type": "code",
   "execution_count": 2,
   "metadata": {},
   "outputs": [],
   "source": [
    "# load data\n",
    "# using data in form of classes\n",
    "class Category:\n",
    "    ELECTRONICS=\"ELECTRONICS\"\n",
    "    BOOKS=\"BOOKS\"\n",
    "    CLOTHING=\"CLOTHING\"\n",
    "    GROCERY=\"GROCERY\"\n",
    "    PATIO=\"PATIO\"\n",
    "class Sentiment:\n",
    "    POSITIVE =\"POSITIVE\"\n",
    "    NEGATIVE=\"NEGATIVE\"\n",
    "    NEUTRAL=\"NEUTRAL\"\n",
    "class Review:\n",
    "    def _init_( self,category,text,score):\n",
    "        self.category=category\n",
    "        self.text=text\n",
    "        self.score =score\n",
    "        self.sentiment=self.get_sentiment()\n",
    "    def get_sentiment(self):\n",
    "        if self.score<=2:\n",
    "            return Sentiment.NEGATIVE\n",
    "        if self.score==3:\n",
    "            return Sentiment.NEUTRAL\n",
    "        else:\n",
    "            return Sentiment.POSITIVE"
   ]
  },
  {
   "cell_type": "code",
   "execution_count": 1,
   "metadata": {},
   "outputs": [],
   "source": [
    "import nltk as nl"
   ]
  },
  {
   "cell_type": "markdown",
   "metadata": {},
   "source": [
    "### sklearn.feature_extraction.text import CountVectorizer,TfidVectorizer\n",
    "- this converts text or words into numerical form to be calculated"
   ]
  },
  {
   "cell_type": "code",
   "execution_count": 1,
   "metadata": {},
   "outputs": [],
   "source": [
    "from sklearn.feature_extraction.text import CountVectorizer"
   ]
  },
  {
   "cell_type": "code",
   "execution_count": 5,
   "metadata": {},
   "outputs": [],
   "source": [
    "#vectorizer=CountVectorizer()\n",
    "#vectorizer.fit()\n",
    "#vectorizer.transform()\n",
    "#vectorizer.fit_transform()\n",
    "#they all mean the same thing"
   ]
  },
  {
   "cell_type": "markdown",
   "metadata": {},
   "source": [
    "## Types of Classifiers in python"
   ]
  },
  {
   "cell_type": "markdown",
   "metadata": {},
   "source": [
    "1. from sklearn.model_selection import train_test_split\n",
    "2. from sklearn.preprocessing import StandardScaler\n",
    "3. from sklearn.neural_network import MLPClassifier\n",
    "4. from slearn.neighbors import KNeighbors\n",
    "5. from sklearn.svm import SVC\n",
    "6. from sklearn.guassian_process import GaussianProcessClassifier\n",
    "7. from sklearn.gaussian_process.kernels import RBF\n",
    "8. from sklearn.tree import DecisionTreeClassifier\n",
    "9. from sklearn.ensemble import RandomForestClassifier,AdaBoostClassifier\n",
    "10. from sklearn.naive_bayes import GaussianNB\n",
    "11. from sklearn.discriminant_analysis import QuadraticDicsriminantAnalysis\n"
   ]
  },
  {
   "cell_type": "markdown",
   "metadata": {},
   "source": [
    "- After you have made your model you need to evaluate it by seeing how it scores\n",
    "- Then imploring\n",
    "```python\n",
    "from sklearn.metrics import f1_score\n",
    "```\n",
    "- This measures the score of the predicted value"
   ]
  },
  {
   "cell_type": "code",
   "execution_count": null,
   "metadata": {},
   "outputs": [],
   "source": []
  }
 ],
 "metadata": {
  "kernelspec": {
   "display_name": "Python 3",
   "language": "python",
   "name": "python3"
  },
  "language_info": {
   "codemirror_mode": {
    "name": "ipython",
    "version": 3
   },
   "file_extension": ".py",
   "mimetype": "text/x-python",
   "name": "python",
   "nbconvert_exporter": "python",
   "pygments_lexer": "ipython3",
   "version": "3.7.3"
  }
 },
 "nbformat": 4,
 "nbformat_minor": 2
}
